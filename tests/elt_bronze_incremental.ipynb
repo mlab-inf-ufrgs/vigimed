{
 "cells": [
  {
   "cell_type": "code",
   "execution_count": 1,
   "id": "bca78251",
   "metadata": {},
   "outputs": [],
   "source": [
    "# IMPORTS\n",
    "import pandas as pd\n",
    "from datetime import datetime\n",
    "import urllib3\n",
    "import requests\n",
    "from io import StringIO"
   ]
  },
  {
   "cell_type": "code",
   "execution_count": 2,
   "id": "f22ef2bd",
   "metadata": {},
   "outputs": [],
   "source": [
    "# DESATIVA AVISO DE REQUISIÇÃO\n",
    "urllib3.disable_warnings(urllib3.exceptions.InsecureRequestWarning)"
   ]
  },
  {
   "cell_type": "code",
   "execution_count": 3,
   "id": "0d6b7907",
   "metadata": {},
   "outputs": [],
   "source": [
    "# INPUT\n",
    "def input(dataset: str) -> pd.DataFrame:\n",
    "    url = f\"https://dados.anvisa.gov.br/dados/VigiMed_{dataset}.csv\"\n",
    "    resp = requests.get(url, verify=False)\n",
    "    data = StringIO(resp.text)\n",
    "    df = pd.read_csv(\n",
    "        data,\n",
    "        sep = ';',\n",
    "        encoding = 'latin-1',\n",
    "        dtype = str,\n",
    "        quoting = 3,            # não trate aspas como delimitador\n",
    "        on_bad_lines = 'error', # queremos erro explícito se algo fugir do layout\n",
    "        low_memory = False\n",
    "    )\n",
    "    return df"
   ]
  },
  {
   "cell_type": "code",
   "execution_count": 4,
   "id": "8eb4c79b",
   "metadata": {},
   "outputs": [],
   "source": [
    "# OUTPUT\n",
    "def output(df: pd.DataFrame, dataset: str) -> str:\n",
    "    layer ='01_staging'\n",
    "    timestamp = datetime.now().strftime(\"%Y_%m_%d_%H_%M_%S\")    # YYYY_MM_DD_HH_MM_SS\n",
    "    output = rf\"..\\data\\{layer}\\{dataset}\\{timestamp}.csv\"\n",
    "    # output = rf\"..\\data\\{layer}\\{dataset}\\{dataset}_{ts}.csv\" # dataset_YYYY_MM_DD_HH_MM_SS\n",
    "    df.to_csv(output, sep=\";\", index=False, encoding=\"utf-8\")"
   ]
  },
  {
   "cell_type": "code",
   "execution_count": 5,
   "id": "8b46262c",
   "metadata": {},
   "outputs": [],
   "source": [
    "# MEDICAMENTOS\n",
    "dataset = 'Medicamentos'\n",
    "df = input(dataset)\n",
    "output(df, dataset)"
   ]
  },
  {
   "cell_type": "code",
   "execution_count": 6,
   "id": "012288ea",
   "metadata": {},
   "outputs": [],
   "source": [
    "# NOTIFICAÇÕES\n",
    "dataset = 'Notificacoes'\n",
    "df = input(dataset)\n",
    "output(df, dataset)"
   ]
  },
  {
   "cell_type": "code",
   "execution_count": 7,
   "id": "47abc08a",
   "metadata": {},
   "outputs": [],
   "source": [
    "# REAÇÕES\n",
    "dataset = 'Reacoes'\n",
    "df = input(dataset)\n",
    "output(df, dataset)"
   ]
  }
 ],
 "metadata": {
  "kernelspec": {
   "display_name": ".venv",
   "language": "python",
   "name": "python3"
  },
  "language_info": {
   "codemirror_mode": {
    "name": "ipython",
    "version": 3
   },
   "file_extension": ".py",
   "mimetype": "text/x-python",
   "name": "python",
   "nbconvert_exporter": "python",
   "pygments_lexer": "ipython3",
   "version": "3.9.13"
  }
 },
 "nbformat": 4,
 "nbformat_minor": 5
}
