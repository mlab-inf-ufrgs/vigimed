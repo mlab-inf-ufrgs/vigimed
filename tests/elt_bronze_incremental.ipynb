{
 "cells": [
  {
   "cell_type": "code",
   "execution_count": 12,
   "id": "bca78251",
   "metadata": {},
   "outputs": [],
   "source": [
    "# IMPORTS\n",
    "import pandas as pd\n",
    "from datetime import datetime\n",
    "import urllib3\n",
    "import requests\n",
    "from io import StringIO\n",
    "import glob\n",
    "import os"
   ]
  },
  {
   "cell_type": "code",
   "execution_count": 13,
   "id": "f22ef2bd",
   "metadata": {},
   "outputs": [],
   "source": [
    "# DESATIVA AVISO DE REQUISIÇÃO\n",
    "urllib3.disable_warnings(urllib3.exceptions.InsecureRequestWarning)"
   ]
  },
  {
   "cell_type": "code",
   "execution_count": null,
   "id": "0d6b7907",
   "metadata": {},
   "outputs": [],
   "source": [
    "# INPUT\n",
    "def input(dataset: str) -> pd.DataFrame:\n",
    "    url = f\"https://dados.anvisa.gov.br/dados/VigiMed_{dataset}.csv\"\n",
    "    resp = requests.get(url, verify=False)  # ignora SSL\n",
    "    data = StringIO(resp.text)\n",
    "    \n",
    "    df = pd.read_csv(\n",
    "        data,\n",
    "        sep=';',              # separador de campos no CSV\n",
    "        encoding='latin-1',   # encoding utilizado no arquivo original\n",
    "        dtype=str,            # força todas as colunas como string para evitar problemas de tipo\n",
    "        quoting=3,            # csv.QUOTE_NONE: não trata aspas como delimitador\n",
    "        on_bad_lines='error', # gera erro explícito se houver linhas fora do layout esperado\n",
    "        low_memory=False      # evita inferência de tipo em chunks, melhora consistência de tipos\n",
    "    )\n",
    "    \n",
    "    return df"
   ]
  },
  {
   "cell_type": "code",
   "execution_count": null,
   "id": "8eb4c79b",
   "metadata": {},
   "outputs": [],
   "source": [
    "# OUTPUT\n",
    "def output(df: pd.DataFrame, dataset: str) -> str:\n",
    "    layer = '01_bronze'\n",
    "    folder = rf\"..\\data\\{layer}\\{dataset}\"\n",
    "    \n",
    "    for file in glob.glob(os.path.join(folder, \"*.csv\")):\n",
    "        os.remove(file)\n",
    "    \n",
    "    timestamp = datetime.now().strftime(\"%Y_%m_%d_%H_%M_%S\")  # YYYY_MM_DD_HH_MM_SS\n",
    "    output_path = os.path.join(folder, f\"{dataset}_{timestamp}.csv\")\n",
    "    df.to_csv(output_path, sep=\";\", index=False, encoding=\"utf-8\")\n",
    "    \n",
    "    return output_path"
   ]
  },
  {
   "cell_type": "code",
   "execution_count": 19,
   "id": "8b46262c",
   "metadata": {},
   "outputs": [
    {
     "data": {
      "text/plain": [
       "'..\\\\data\\\\01_bronze\\\\Medicamentos\\\\Medicamentos_2025_08_29_09_11_30.csv'"
      ]
     },
     "execution_count": 19,
     "metadata": {},
     "output_type": "execute_result"
    }
   ],
   "source": [
    "# MEDICAMENTOS\n",
    "dataset = 'Medicamentos'\n",
    "df = input(dataset)\n",
    "output(df, dataset)"
   ]
  },
  {
   "cell_type": "code",
   "execution_count": 20,
   "id": "012288ea",
   "metadata": {},
   "outputs": [
    {
     "data": {
      "text/plain": [
       "'..\\\\data\\\\01_bronze\\\\Notificacoes\\\\Notificacoes_2025_08_29_09_12_33.csv'"
      ]
     },
     "execution_count": 20,
     "metadata": {},
     "output_type": "execute_result"
    }
   ],
   "source": [
    "# NOTIFICAÇÕES\n",
    "dataset = 'Notificacoes'\n",
    "df = input(dataset)\n",
    "output(df, dataset)"
   ]
  },
  {
   "cell_type": "code",
   "execution_count": 21,
   "id": "47abc08a",
   "metadata": {},
   "outputs": [
    {
     "data": {
      "text/plain": [
       "'..\\\\data\\\\01_bronze\\\\Reacoes\\\\Reacoes_2025_08_29_09_13_42.csv'"
      ]
     },
     "execution_count": 21,
     "metadata": {},
     "output_type": "execute_result"
    }
   ],
   "source": [
    "# REAÇÕES\n",
    "dataset = 'Reacoes'\n",
    "df = input(dataset)\n",
    "output(df, dataset)"
   ]
  }
 ],
 "metadata": {
  "kernelspec": {
   "display_name": ".venv",
   "language": "python",
   "name": "python3"
  },
  "language_info": {
   "codemirror_mode": {
    "name": "ipython",
    "version": 3
   },
   "file_extension": ".py",
   "mimetype": "text/x-python",
   "name": "python",
   "nbconvert_exporter": "python",
   "pygments_lexer": "ipython3",
   "version": "3.9.13"
  }
 },
 "nbformat": 4,
 "nbformat_minor": 5
}
