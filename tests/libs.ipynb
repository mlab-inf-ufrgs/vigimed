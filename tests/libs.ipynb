{
 "cells": [
  {
   "cell_type": "code",
   "execution_count": null,
   "id": "bc8fbc2a",
   "metadata": {},
   "outputs": [],
   "source": [
    "!pip install ipykernel\n",
    "!pip install --upgrade ipywidgets\n",
    "!pip install --upgrade jupyterlab notebook"
   ]
  },
  {
   "cell_type": "code",
   "execution_count": null,
   "id": "32b3edfb",
   "metadata": {},
   "outputs": [],
   "source": [
    "!pip install basedosdados"
   ]
  },
  {
   "cell_type": "code",
   "execution_count": null,
   "id": "3532bfbd",
   "metadata": {},
   "outputs": [],
   "source": [
    "!pip install -q jupysql sqlalchemy duckdb duckdb-engine"
   ]
  },
  {
   "cell_type": "code",
   "execution_count": null,
   "id": "7497a137",
   "metadata": {},
   "outputs": [],
   "source": [
    "!pip list"
   ]
  }
 ],
 "metadata": {
  "kernelspec": {
   "display_name": ".venv",
   "language": "python",
   "name": "python3"
  },
  "language_info": {
   "codemirror_mode": {
    "name": "ipython",
    "version": 3
   },
   "file_extension": ".py",
   "mimetype": "text/x-python",
   "name": "python",
   "nbconvert_exporter": "python",
   "pygments_lexer": "ipython3",
   "version": "3.9.13"
  }
 },
 "nbformat": 4,
 "nbformat_minor": 5
}
