{
 "cells": [
  {
   "cell_type": "markdown",
   "id": "e32c50fb",
   "metadata": {},
   "source": [
    "# ELT"
   ]
  },
  {
   "cell_type": "code",
   "execution_count": 28,
   "id": "cdba7443",
   "metadata": {},
   "outputs": [],
   "source": [
    "import pandas as pd\n",
    "from datetime import datetime"
   ]
  },
  {
   "cell_type": "code",
   "execution_count": null,
   "id": "605ca50b",
   "metadata": {},
   "outputs": [],
   "source": [
    "\n",
    "# Mostra todas as colunas, sem limite\n",
    "pd.set_option('display.max_columns', None)\n",
    "\n",
    "# (Opcional) Ajustes que costumam ajudar:\n",
    "pd.set_option('display.expand_frame_repr', False)   # evita quebra de linha\n",
    "pd.set_option('display.max_colwidth', None)         # mostra o conteúdo completo das células\n",
    "pd.set_option('display.width', 0)                   # usa toda a largura do notebook\n"
   ]
  },
  {
   "cell_type": "code",
   "execution_count": 37,
   "id": "7919ab23",
   "metadata": {},
   "outputs": [
    {
     "name": "stdout",
     "output_type": "stream",
     "text": [
      "C:\\\\Users\\\\silma\\\\OneDrive\\\\Área de Trabalho\\\\Mestrado\\\\vigimed\\\\data\\\\01_bronze\\notificacoes\\2025_07_14_10_05_49.parquet\n"
     ]
    }
   ],
   "source": [
    "layer ='01_bronze'\n",
    "dataset = 'notificacoes'\n",
    "ts = datetime.now().strftime(\"%Y_%m_%d_%H_%M_%S\") #'2025_06_30_14_17_00'\n",
    "input = r'C:\\\\Users\\\\silma\\\\Downloads\\\\' \n",
    "output = r\"C:\\\\Users\\\\silma\\\\OneDrive\\\\Área de Trabalho\\\\Mestrado\\\\vigimed\\\\data\\\\\"+layer+\"\\\\\"+dataset+\"\\\\\"+ts+\".parquet\"\n",
    "print(output)"
   ]
  },
  {
   "cell_type": "markdown",
   "id": "06bca818",
   "metadata": {},
   "source": [
    "# Input"
   ]
  },
  {
   "cell_type": "code",
   "execution_count": 35,
   "id": "34fe1cfa",
   "metadata": {},
   "outputs": [
    {
     "name": "stdout",
     "output_type": "stream",
     "text": [
      "   UF    TIPO_ENTRADA_VIGIMED           RECEBIDO_DE IDENTIFICACAO_NOTIFICACAO DATA_INCLUSAO_SISTEMA DATA_ULTIMA_ATUALIZACAO DATA_NOTIFICACAO        TIPO_NOTIFICACAO NOTIFICACAO_PARENT_CHILD DATA_NASCIMENTO IDADE_MOMENTO_REACAO GRUPO_IDADE IDADE_GESTACIONAL_MOMENTO_REACAO       SEXO GESTANTE LACTANTE PESO_KG ALTURA_CM         REACAO_EVENTO_ADVERSO_MEDDRA GRAVE                                GRAVIDADE      DESFECHO DATA_INICIO_HORA DATA_FINAL_HORA DURACAO RELACAO_MEDICAMENTO_EVENTO               NOME_MEDICAMENTO_WHODRUG   ACAO_ADOTADA                                    NOTIFICADOR\n",
      "0  SP  Empresas Farmacêuticas  Empresa Farmacêutica       BR-ANVISA-300212656              20230928                20230928              NaN  Notificação espontânea                      NaN        19900131               30 ano         NaN                              NaN   Feminino     Não      Não     68.0       165                          Hemiparesia   Sim  Outro efeito clinicamente significativo    Recuperado         20210125        20210206  12 dia               Concomitante                                 Tamisa  Não aplicável                                         Médico\n",
      "1  SP  Empresas Farmacêuticas  Empresa Farmacêutica       BR-ANVISA-300208322              20230901                20230901              NaN  Notificação espontânea                      NaN             NaN                  NaN         NaN                              NaN   Feminino     Não      Não      NaN       NaN                             Cefaleia   Não  Outro efeito clinicamente significativo  Desconhecido        20210122              NaN     NaN                   Suspeito                              CoronaVac  Não aplicável  Consumidor ou outro não profissional de saúde\n",
      "2  SP  Empresas Farmacêuticas  Empresa Farmacêutica       BR-ANVISA-300214015              20231006                20231006              NaN  Notificação espontânea                      NaN        19710522               49 ano         NaN                              NaN  Masculino     Não      Não      NaN       NaN                         Nefrolitíase   Sim                           Hospitalização  Desconhecido        20210203              NaN     NaN               Concomitante                             Metformina            NaN                                         Médico\n",
      "3  SP  Empresas Farmacêuticas  Empresa Farmacêutica       BR-ANVISA-300212385              20230927                20230927              NaN  Notificação espontânea                      NaN             NaN                  NaN         NaN                              NaN  Masculino     Não      Não      NaN       NaN                       Abscesso nasal   Sim  Outro efeito clinicamente significativo  Desconhecido              NaN             NaN     NaN                   Suspeito  Vacina adsorvida COVID-19 (inativada)            NaN  Consumidor ou outro não profissional de saúde\n",
      "4  SP  Empresas Farmacêuticas  Empresa Farmacêutica       BR-ANVISA-300212764              20230929                20230929              NaN  Notificação espontânea                      NaN        19820505               39 ano         NaN                              NaN  Masculino     Não      Não      NaN       NaN  Descompensação metabólica diabética   Sim  Outro efeito clinicamente significativo  Desconhecido              NaN             NaN     NaN                   Suspeito                              CoronaVac   Desconhecido  Consumidor ou outro não profissional de saúde\n"
     ]
    }
   ],
   "source": [
    "df = pd.read_csv(input+'\\\\VigiMed_Notificacoes.csv', \n",
    "                 encoding='latin-1', \n",
    "                 sep=';', \n",
    "                 header=0, \n",
    "                 dtype=str,\n",
    "                 low_memory=False\n",
    "                 )\n",
    "\n",
    "print(df.head())"
   ]
  },
  {
   "cell_type": "markdown",
   "id": "79b9e8a9",
   "metadata": {},
   "source": [
    "# Output"
   ]
  },
  {
   "cell_type": "code",
   "execution_count": null,
   "id": "e3c25b9d",
   "metadata": {},
   "outputs": [],
   "source": [
    "df.to_parquet(output, compression=\"snappy\", index=False)"
   ]
  }
 ],
 "metadata": {
  "kernelspec": {
   "display_name": ".venv",
   "language": "python",
   "name": "python3"
  },
  "language_info": {
   "codemirror_mode": {
    "name": "ipython",
    "version": 3
   },
   "file_extension": ".py",
   "mimetype": "text/x-python",
   "name": "python",
   "nbconvert_exporter": "python",
   "pygments_lexer": "ipython3",
   "version": "3.9.13"
  }
 },
 "nbformat": 4,
 "nbformat_minor": 5
}
