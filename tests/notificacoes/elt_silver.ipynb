{
 "cells": [
  {
   "cell_type": "code",
   "execution_count": 1,
   "id": "8054e8fb",
   "metadata": {},
   "outputs": [
    {
     "name": "stdout",
     "output_type": "stream",
     "text": [
      "/Users/silmara.barnabe/Desktop/Projects/vigimed/data/03_silver/notificacoes/2025_08_14_16_18_49.parquet\n"
     ]
    }
   ],
   "source": [
    "import pandas as pd\n",
    "from pathlib import Path\n",
    "from datetime import datetime \n",
    "\n",
    "# Mostra todas as colunas, sem limite\n",
    "pd.set_option('display.max_columns', None)\n",
    "\n",
    "# (Opcional) Ajustes que costumam ajudar:\n",
    "pd.set_option('display.expand_frame_repr', False)   # evita quebra de linha\n",
    "pd.set_option('display.max_colwidth', None)         # mostra o conteúdo completo das células\n",
    "pd.set_option('display.width', 0)  \n",
    "\n",
    "# Pasta com os arquivos Parquet\n",
    "pasta = Path(\"/Users/silmara.barnabe/Desktop/Projects/vigimed/data/02_bronze/notificacoes\")\n",
    "layer ='03_silver'\n",
    "dataset = 'notificacoes'\n",
    "ts = datetime.now().strftime(\"%Y_%m_%d_%H_%M_%S\") #'2025_06_30_14_17_00'\n",
    "output = \"/Users/silmara.barnabe/Desktop/Projects/vigimed/data/\"+layer+\"/\"+dataset+\"/\"+ts+\".parquet\"\n",
    "print(output) "
   ]
  },
  {
   "cell_type": "markdown",
   "id": "2761bc0b",
   "metadata": {},
   "source": [
    "# dates"
   ]
  },
  {
   "cell_type": "code",
   "execution_count": 2,
   "id": "713d188f",
   "metadata": {},
   "outputs": [
    {
     "name": "stdout",
     "output_type": "stream",
     "text": [
      "DataFrames concatenados com sucesso!\n"
     ]
    },
    {
     "data": {
      "text/html": [
       "<div>\n",
       "<style scoped>\n",
       "    .dataframe tbody tr th:only-of-type {\n",
       "        vertical-align: middle;\n",
       "    }\n",
       "\n",
       "    .dataframe tbody tr th {\n",
       "        vertical-align: top;\n",
       "    }\n",
       "\n",
       "    .dataframe thead th {\n",
       "        text-align: right;\n",
       "    }\n",
       "</style>\n",
       "<table border=\"1\" class=\"dataframe\">\n",
       "  <thead>\n",
       "    <tr style=\"text-align: right;\">\n",
       "      <th></th>\n",
       "      <th>UF</th>\n",
       "      <th>TIPO_ENTRADA_VIGIMED</th>\n",
       "      <th>RECEBIDO_DE</th>\n",
       "      <th>IDENTIFICACAO_NOTIFICACAO</th>\n",
       "      <th>DATA_INCLUSAO_SISTEMA</th>\n",
       "      <th>DATA_ULTIMA_ATUALIZACAO</th>\n",
       "      <th>DATA_NOTIFICACAO</th>\n",
       "      <th>TIPO_NOTIFICACAO</th>\n",
       "      <th>NOTIFICACAO_PARENT_CHILD</th>\n",
       "      <th>DATA_NASCIMENTO</th>\n",
       "      <th>IDADE_MOMENTO_REACAO</th>\n",
       "      <th>GRUPO_IDADE</th>\n",
       "      <th>IDADE_GESTACIONAL_MOMENTO_REACAO</th>\n",
       "      <th>SEXO</th>\n",
       "      <th>GESTANTE</th>\n",
       "      <th>LACTANTE</th>\n",
       "      <th>PESO_KG</th>\n",
       "      <th>ALTURA_CM</th>\n",
       "      <th>REACAO_EVENTO_ADVERSO_MEDDRA</th>\n",
       "      <th>GRAVE</th>\n",
       "      <th>GRAVIDADE</th>\n",
       "      <th>DESFECHO</th>\n",
       "      <th>DATA_INICIO_HORA</th>\n",
       "      <th>DATA_FINAL_HORA</th>\n",
       "      <th>DURACAO</th>\n",
       "      <th>RELACAO_MEDICAMENTO_EVENTO</th>\n",
       "      <th>NOME_MEDICAMENTO_WHODRUG</th>\n",
       "      <th>ACAO_ADOTADA</th>\n",
       "      <th>NOTIFICADOR</th>\n",
       "      <th>arquivo</th>\n",
       "    </tr>\n",
       "  </thead>\n",
       "  <tbody>\n",
       "    <tr>\n",
       "      <th>0</th>\n",
       "      <td>SP</td>\n",
       "      <td>Empresas Farmacêuticas</td>\n",
       "      <td>Empresa Farmacêutica</td>\n",
       "      <td>BR-ANVISA-300212656</td>\n",
       "      <td>20230928</td>\n",
       "      <td>20230928</td>\n",
       "      <td>None</td>\n",
       "      <td>Notificação espontânea</td>\n",
       "      <td>None</td>\n",
       "      <td>19900131</td>\n",
       "      <td>30 ano</td>\n",
       "      <td>None</td>\n",
       "      <td>None</td>\n",
       "      <td>Feminino</td>\n",
       "      <td>Não</td>\n",
       "      <td>Não</td>\n",
       "      <td>68.0</td>\n",
       "      <td>165</td>\n",
       "      <td>Hemiparesia</td>\n",
       "      <td>Sim</td>\n",
       "      <td>Outro efeito clinicamente significativo</td>\n",
       "      <td>Recuperado</td>\n",
       "      <td>20210125</td>\n",
       "      <td>20210206</td>\n",
       "      <td>12 dia</td>\n",
       "      <td>Concomitante</td>\n",
       "      <td>Tamisa</td>\n",
       "      <td>Não aplicável</td>\n",
       "      <td>Médico</td>\n",
       "      <td>2025_08_14_11_22_54.parquet</td>\n",
       "    </tr>\n",
       "    <tr>\n",
       "      <th>1</th>\n",
       "      <td>SP</td>\n",
       "      <td>Empresas Farmacêuticas</td>\n",
       "      <td>Empresa Farmacêutica</td>\n",
       "      <td>BR-ANVISA-300208322</td>\n",
       "      <td>20230901</td>\n",
       "      <td>20230901</td>\n",
       "      <td>None</td>\n",
       "      <td>Notificação espontânea</td>\n",
       "      <td>None</td>\n",
       "      <td>None</td>\n",
       "      <td>None</td>\n",
       "      <td>None</td>\n",
       "      <td>None</td>\n",
       "      <td>Feminino</td>\n",
       "      <td>Não</td>\n",
       "      <td>Não</td>\n",
       "      <td>None</td>\n",
       "      <td>None</td>\n",
       "      <td>Cefaleia</td>\n",
       "      <td>Não</td>\n",
       "      <td>Outro efeito clinicamente significativo</td>\n",
       "      <td>Desconhecido</td>\n",
       "      <td>20210122</td>\n",
       "      <td>None</td>\n",
       "      <td>None</td>\n",
       "      <td>Suspeito</td>\n",
       "      <td>CoronaVac</td>\n",
       "      <td>Não aplicável</td>\n",
       "      <td>Consumidor ou outro não profissional de saúde</td>\n",
       "      <td>2025_08_14_11_22_54.parquet</td>\n",
       "    </tr>\n",
       "    <tr>\n",
       "      <th>2</th>\n",
       "      <td>SP</td>\n",
       "      <td>Empresas Farmacêuticas</td>\n",
       "      <td>Empresa Farmacêutica</td>\n",
       "      <td>BR-ANVISA-300214015</td>\n",
       "      <td>20231006</td>\n",
       "      <td>20231006</td>\n",
       "      <td>None</td>\n",
       "      <td>Notificação espontânea</td>\n",
       "      <td>None</td>\n",
       "      <td>19710522</td>\n",
       "      <td>49 ano</td>\n",
       "      <td>None</td>\n",
       "      <td>None</td>\n",
       "      <td>Masculino</td>\n",
       "      <td>Não</td>\n",
       "      <td>Não</td>\n",
       "      <td>None</td>\n",
       "      <td>None</td>\n",
       "      <td>Nefrolitíase</td>\n",
       "      <td>Sim</td>\n",
       "      <td>Hospitalização</td>\n",
       "      <td>Desconhecido</td>\n",
       "      <td>20210203</td>\n",
       "      <td>None</td>\n",
       "      <td>None</td>\n",
       "      <td>Concomitante</td>\n",
       "      <td>Metformina</td>\n",
       "      <td>None</td>\n",
       "      <td>Médico</td>\n",
       "      <td>2025_08_14_11_22_54.parquet</td>\n",
       "    </tr>\n",
       "    <tr>\n",
       "      <th>3</th>\n",
       "      <td>SP</td>\n",
       "      <td>Empresas Farmacêuticas</td>\n",
       "      <td>Empresa Farmacêutica</td>\n",
       "      <td>BR-ANVISA-300212385</td>\n",
       "      <td>20230927</td>\n",
       "      <td>20230927</td>\n",
       "      <td>None</td>\n",
       "      <td>Notificação espontânea</td>\n",
       "      <td>None</td>\n",
       "      <td>None</td>\n",
       "      <td>None</td>\n",
       "      <td>None</td>\n",
       "      <td>None</td>\n",
       "      <td>Masculino</td>\n",
       "      <td>Não</td>\n",
       "      <td>Não</td>\n",
       "      <td>None</td>\n",
       "      <td>None</td>\n",
       "      <td>Abscesso nasal</td>\n",
       "      <td>Sim</td>\n",
       "      <td>Outro efeito clinicamente significativo</td>\n",
       "      <td>Desconhecido</td>\n",
       "      <td>None</td>\n",
       "      <td>None</td>\n",
       "      <td>None</td>\n",
       "      <td>Suspeito</td>\n",
       "      <td>Vacina adsorvida COVID-19 (inativada)</td>\n",
       "      <td>None</td>\n",
       "      <td>Consumidor ou outro não profissional de saúde</td>\n",
       "      <td>2025_08_14_11_22_54.parquet</td>\n",
       "    </tr>\n",
       "    <tr>\n",
       "      <th>4</th>\n",
       "      <td>SP</td>\n",
       "      <td>Empresas Farmacêuticas</td>\n",
       "      <td>Empresa Farmacêutica</td>\n",
       "      <td>BR-ANVISA-300212764</td>\n",
       "      <td>20230929</td>\n",
       "      <td>20230929</td>\n",
       "      <td>None</td>\n",
       "      <td>Notificação espontânea</td>\n",
       "      <td>None</td>\n",
       "      <td>19820505</td>\n",
       "      <td>39 ano</td>\n",
       "      <td>None</td>\n",
       "      <td>None</td>\n",
       "      <td>Masculino</td>\n",
       "      <td>Não</td>\n",
       "      <td>Não</td>\n",
       "      <td>None</td>\n",
       "      <td>None</td>\n",
       "      <td>Descompensação metabólica diabética</td>\n",
       "      <td>Sim</td>\n",
       "      <td>Outro efeito clinicamente significativo</td>\n",
       "      <td>Desconhecido</td>\n",
       "      <td>None</td>\n",
       "      <td>None</td>\n",
       "      <td>None</td>\n",
       "      <td>Suspeito</td>\n",
       "      <td>CoronaVac</td>\n",
       "      <td>Desconhecido</td>\n",
       "      <td>Consumidor ou outro não profissional de saúde</td>\n",
       "      <td>2025_08_14_11_22_54.parquet</td>\n",
       "    </tr>\n",
       "  </tbody>\n",
       "</table>\n",
       "</div>"
      ],
      "text/plain": [
       "   UF    TIPO_ENTRADA_VIGIMED           RECEBIDO_DE IDENTIFICACAO_NOTIFICACAO DATA_INCLUSAO_SISTEMA DATA_ULTIMA_ATUALIZACAO DATA_NOTIFICACAO        TIPO_NOTIFICACAO NOTIFICACAO_PARENT_CHILD DATA_NASCIMENTO IDADE_MOMENTO_REACAO GRUPO_IDADE IDADE_GESTACIONAL_MOMENTO_REACAO       SEXO GESTANTE LACTANTE PESO_KG ALTURA_CM         REACAO_EVENTO_ADVERSO_MEDDRA GRAVE                                GRAVIDADE      DESFECHO DATA_INICIO_HORA DATA_FINAL_HORA DURACAO RELACAO_MEDICAMENTO_EVENTO               NOME_MEDICAMENTO_WHODRUG   ACAO_ADOTADA                                    NOTIFICADOR                      arquivo\n",
       "0  SP  Empresas Farmacêuticas  Empresa Farmacêutica       BR-ANVISA-300212656              20230928                20230928             None  Notificação espontânea                     None        19900131               30 ano        None                             None   Feminino     Não      Não     68.0       165                          Hemiparesia   Sim  Outro efeito clinicamente significativo    Recuperado         20210125        20210206  12 dia               Concomitante                                 Tamisa  Não aplicável                                         Médico  2025_08_14_11_22_54.parquet\n",
       "1  SP  Empresas Farmacêuticas  Empresa Farmacêutica       BR-ANVISA-300208322              20230901                20230901             None  Notificação espontânea                     None            None                 None        None                             None   Feminino     Não      Não     None      None                             Cefaleia   Não  Outro efeito clinicamente significativo  Desconhecido        20210122             None    None                   Suspeito                              CoronaVac  Não aplicável  Consumidor ou outro não profissional de saúde  2025_08_14_11_22_54.parquet\n",
       "2  SP  Empresas Farmacêuticas  Empresa Farmacêutica       BR-ANVISA-300214015              20231006                20231006             None  Notificação espontânea                     None        19710522               49 ano        None                             None  Masculino     Não      Não     None      None                         Nefrolitíase   Sim                           Hospitalização  Desconhecido        20210203             None    None               Concomitante                             Metformina           None                                         Médico  2025_08_14_11_22_54.parquet\n",
       "3  SP  Empresas Farmacêuticas  Empresa Farmacêutica       BR-ANVISA-300212385              20230927                20230927             None  Notificação espontânea                     None            None                 None        None                             None  Masculino     Não      Não     None      None                       Abscesso nasal   Sim  Outro efeito clinicamente significativo  Desconhecido             None            None    None                   Suspeito  Vacina adsorvida COVID-19 (inativada)           None  Consumidor ou outro não profissional de saúde  2025_08_14_11_22_54.parquet\n",
       "4  SP  Empresas Farmacêuticas  Empresa Farmacêutica       BR-ANVISA-300212764              20230929                20230929             None  Notificação espontânea                     None        19820505               39 ano        None                             None  Masculino     Não      Não     None      None  Descompensação metabólica diabética   Sim  Outro efeito clinicamente significativo  Desconhecido             None            None    None                   Suspeito                              CoronaVac   Desconhecido  Consumidor ou outro não profissional de saúde  2025_08_14_11_22_54.parquet"
      ]
     },
     "execution_count": 2,
     "metadata": {},
     "output_type": "execute_result"
    }
   ],
   "source": [
    "# Lista todos os arquivos parquet\n",
    "arquivos = list(pasta.glob(\"*.parquet\"))\n",
    "\n",
    "dfs = []\n",
    "\n",
    "for arquivo in arquivos:\n",
    "    try:\n",
    "        df_temp = pd.read_parquet(arquivo)\n",
    "        df_temp['arquivo'] = arquivo.name  # cria coluna com nome do arquivo\n",
    "        dfs.append(df_temp)\n",
    "    except Exception as e:\n",
    "        print(f\"Erro ao ler {arquivo.name}: {e}\")\n",
    "\n",
    "# Concatena todos os dataframes lidos\n",
    "if dfs:\n",
    "    df_final = pd.concat(dfs, ignore_index=True)\n",
    "    print(\"DataFrames concatenados com sucesso!\")\n",
    "else:\n",
    "    print(\"Nenhum arquivo foi carregado.\")\n",
    "\n",
    "# Mostra as primeiras linhas\n",
    "df_final.head()\n"
   ]
  },
  {
   "cell_type": "markdown",
   "id": "d35718cb",
   "metadata": {},
   "source": [
    "# Summary"
   ]
  },
  {
   "cell_type": "code",
   "execution_count": 3,
   "id": "c7e8c062",
   "metadata": {},
   "outputs": [
    {
     "name": "stdout",
     "output_type": "stream",
     "text": [
      "<class 'pandas.core.frame.DataFrame'>\n",
      "RangeIndex: 1468104 entries, 0 to 1468103\n",
      "Data columns (total 30 columns):\n",
      " #   Column                            Non-Null Count    Dtype \n",
      "---  ------                            --------------    ----- \n",
      " 0   UF                                1035035 non-null  object\n",
      " 1   TIPO_ENTRADA_VIGIMED              1467711 non-null  object\n",
      " 2   RECEBIDO_DE                       1214001 non-null  object\n",
      " 3   IDENTIFICACAO_NOTIFICACAO         1468104 non-null  object\n",
      " 4   DATA_INCLUSAO_SISTEMA             1468104 non-null  object\n",
      " 5   DATA_ULTIMA_ATUALIZACAO           1467778 non-null  object\n",
      " 6   DATA_NOTIFICACAO                  769923 non-null   object\n",
      " 7   TIPO_NOTIFICACAO                  1468104 non-null  object\n",
      " 8   NOTIFICACAO_PARENT_CHILD          5336 non-null     object\n",
      " 9   DATA_NASCIMENTO                   1088368 non-null  object\n",
      " 10  IDADE_MOMENTO_REACAO              926352 non-null   object\n",
      " 11  GRUPO_IDADE                       588504 non-null   object\n",
      " 12  IDADE_GESTACIONAL_MOMENTO_REACAO  1569 non-null     object\n",
      " 13  SEXO                              1414773 non-null  object\n",
      " 14  GESTANTE                          587115 non-null   object\n",
      " 15  LACTANTE                          587135 non-null   object\n",
      " 16  PESO_KG                           578020 non-null   object\n",
      " 17  ALTURA_CM                         309202 non-null   object\n",
      " 18  REACAO_EVENTO_ADVERSO_MEDDRA      1466532 non-null  object\n",
      " 19  GRAVE                             1129831 non-null  object\n",
      " 20  GRAVIDADE                         677690 non-null   object\n",
      " 21  DESFECHO                          1228938 non-null  object\n",
      " 22  DATA_INICIO_HORA                  1075794 non-null  object\n",
      " 23  DATA_FINAL_HORA                   744263 non-null   object\n",
      " 24  DURACAO                           498460 non-null   object\n",
      " 25  RELACAO_MEDICAMENTO_EVENTO        1468099 non-null  object\n",
      " 26  NOME_MEDICAMENTO_WHODRUG          1465483 non-null  object\n",
      " 27  ACAO_ADOTADA                      863466 non-null   object\n",
      " 28  NOTIFICADOR                       1396759 non-null  object\n",
      " 29  arquivo                           1468104 non-null  object\n",
      "dtypes: object(30)\n",
      "memory usage: 336.0+ MB\n"
     ]
    }
   ],
   "source": [
    "df_final.info()"
   ]
  },
  {
   "cell_type": "code",
   "execution_count": 4,
   "id": "fd261ede",
   "metadata": {},
   "outputs": [],
   "source": [
    "def resumo_distintos_colunas(df: pd.DataFrame, cols=None) -> pd.DataFrame:\n",
    "    \"\"\"\n",
    "    Retorna um resumo por coluna com:\n",
    "    - n_registros (total de linhas)\n",
    "    - n_distintos\n",
    "    - %_distintos\n",
    "    - n_nulos\n",
    "    - %_nulos\n",
    "    \"\"\"\n",
    "    if cols is None:\n",
    "        cols = df.columns.tolist()\n",
    "    df2 = df[cols]\n",
    "    total = len(df2)\n",
    "\n",
    "    nunique = df2.nunique(dropna=True)\n",
    "    nnull = df2.isna().sum()\n",
    "\n",
    "    out = (\n",
    "        pd.DataFrame({\n",
    "            \"coluna\": nunique.index,\n",
    "            \"n_registros\": total,\n",
    "            \"n_distintos\": nunique.values,\n",
    "            \"%_distintos\": (nunique.values / total * 100) if total else 0.0,\n",
    "            \"n_nulos\": nnull.values,\n",
    "            \"%_nulos\": (nnull.values / total * 100) if total else 0.0,\n",
    "        })\n",
    "        .sort_values(\"%_distintos\", ascending=False)\n",
    "        .reset_index(drop=True)\n",
    "    )\n",
    "\n",
    "    if total:\n",
    "        out[\"%_distintos\"] = out[\"%_distintos\"].round(2)\n",
    "        out[\"%_nulos\"] = out[\"%_nulos\"].round(2)\n",
    "\n",
    "    return out\n",
    "\n",
    "\n",
    "def resumo_distintos_linhas(df: pd.DataFrame) -> pd.Series:\n",
    "    \"\"\"\n",
    "    Retorna um resumo do dataset considerando todas as colunas:\n",
    "    - total_linhas\n",
    "    - linhas_distintas\n",
    "    - %_linhas_distintas\n",
    "    - linhas_duplicadas\n",
    "    - %_linhas_duplicadas\n",
    "    \"\"\"\n",
    "    total = len(df)\n",
    "    distintos = len(df.drop_duplicates())\n",
    "    duplicados = total - distintos\n",
    "\n",
    "    pct_distintos = (distintos / total * 100) if total else 0.0\n",
    "    pct_duplicados = (duplicados / total * 100) if total else 0.0\n",
    "\n",
    "    return pd.Series({\n",
    "        \"total_linhas\": total,\n",
    "        \"linhas_distintas\": distintos,\n",
    "        \"%_linhas_distintas\": round(pct_distintos, 2),\n",
    "        \"linhas_duplicadas\": duplicados,\n",
    "        \"%_linhas_duplicadas\": round(pct_duplicados, 2),\n",
    "    })\n",
    "\n"
   ]
  },
  {
   "cell_type": "code",
   "execution_count": 6,
   "id": "864b5ac0",
   "metadata": {},
   "outputs": [],
   "source": [
    "\n",
    "# --- USO ---\n",
    "cols = df_final.columns.tolist()\n",
    "\n",
    "summary_cols = resumo_distintos_colunas(df_final, cols=cols)\n",
    "summary_rows = resumo_distintos_linhas(df_final)\n",
    " "
   ]
  },
  {
   "cell_type": "code",
   "execution_count": 7,
   "id": "dae5223d",
   "metadata": {},
   "outputs": [
    {
     "data": {
      "text/html": [
       "<div>\n",
       "<style scoped>\n",
       "    .dataframe tbody tr th:only-of-type {\n",
       "        vertical-align: middle;\n",
       "    }\n",
       "\n",
       "    .dataframe tbody tr th {\n",
       "        vertical-align: top;\n",
       "    }\n",
       "\n",
       "    .dataframe thead th {\n",
       "        text-align: right;\n",
       "    }\n",
       "</style>\n",
       "<table border=\"1\" class=\"dataframe\">\n",
       "  <thead>\n",
       "    <tr style=\"text-align: right;\">\n",
       "      <th></th>\n",
       "      <th>coluna</th>\n",
       "      <th>n_registros</th>\n",
       "      <th>n_distintos</th>\n",
       "      <th>%_distintos</th>\n",
       "      <th>n_nulos</th>\n",
       "      <th>%_nulos</th>\n",
       "    </tr>\n",
       "  </thead>\n",
       "  <tbody>\n",
       "    <tr>\n",
       "      <th>0</th>\n",
       "      <td>IDENTIFICACAO_NOTIFICACAO</td>\n",
       "      <td>1468104</td>\n",
       "      <td>276940</td>\n",
       "      <td>18.86</td>\n",
       "      <td>0</td>\n",
       "      <td>0.00</td>\n",
       "    </tr>\n",
       "    <tr>\n",
       "      <th>1</th>\n",
       "      <td>DATA_NASCIMENTO</td>\n",
       "      <td>1468104</td>\n",
       "      <td>34301</td>\n",
       "      <td>2.34</td>\n",
       "      <td>379736</td>\n",
       "      <td>25.87</td>\n",
       "    </tr>\n",
       "    <tr>\n",
       "      <th>2</th>\n",
       "      <td>DATA_INICIO_HORA</td>\n",
       "      <td>1468104</td>\n",
       "      <td>25440</td>\n",
       "      <td>1.73</td>\n",
       "      <td>392310</td>\n",
       "      <td>26.72</td>\n",
       "    </tr>\n",
       "    <tr>\n",
       "      <th>3</th>\n",
       "      <td>DATA_FINAL_HORA</td>\n",
       "      <td>1468104</td>\n",
       "      <td>20192</td>\n",
       "      <td>1.38</td>\n",
       "      <td>723841</td>\n",
       "      <td>49.30</td>\n",
       "    </tr>\n",
       "    <tr>\n",
       "      <th>4</th>\n",
       "      <td>REACAO_EVENTO_ADVERSO_MEDDRA</td>\n",
       "      <td>1468104</td>\n",
       "      <td>13916</td>\n",
       "      <td>0.95</td>\n",
       "      <td>1572</td>\n",
       "      <td>0.11</td>\n",
       "    </tr>\n",
       "    <tr>\n",
       "      <th>5</th>\n",
       "      <td>NOME_MEDICAMENTO_WHODRUG</td>\n",
       "      <td>1468104</td>\n",
       "      <td>7631</td>\n",
       "      <td>0.52</td>\n",
       "      <td>2621</td>\n",
       "      <td>0.18</td>\n",
       "    </tr>\n",
       "    <tr>\n",
       "      <th>6</th>\n",
       "      <td>PESO_KG</td>\n",
       "      <td>1468104</td>\n",
       "      <td>4114</td>\n",
       "      <td>0.28</td>\n",
       "      <td>890084</td>\n",
       "      <td>60.63</td>\n",
       "    </tr>\n",
       "    <tr>\n",
       "      <th>7</th>\n",
       "      <td>DATA_NOTIFICACAO</td>\n",
       "      <td>1468104</td>\n",
       "      <td>2962</td>\n",
       "      <td>0.20</td>\n",
       "      <td>698181</td>\n",
       "      <td>47.56</td>\n",
       "    </tr>\n",
       "    <tr>\n",
       "      <th>8</th>\n",
       "      <td>DATA_ULTIMA_ATUALIZACAO</td>\n",
       "      <td>1468104</td>\n",
       "      <td>2320</td>\n",
       "      <td>0.16</td>\n",
       "      <td>326</td>\n",
       "      <td>0.02</td>\n",
       "    </tr>\n",
       "    <tr>\n",
       "      <th>9</th>\n",
       "      <td>DATA_INCLUSAO_SISTEMA</td>\n",
       "      <td>1468104</td>\n",
       "      <td>2319</td>\n",
       "      <td>0.16</td>\n",
       "      <td>0</td>\n",
       "      <td>0.00</td>\n",
       "    </tr>\n",
       "    <tr>\n",
       "      <th>10</th>\n",
       "      <td>IDADE_MOMENTO_REACAO</td>\n",
       "      <td>1468104</td>\n",
       "      <td>1226</td>\n",
       "      <td>0.08</td>\n",
       "      <td>541752</td>\n",
       "      <td>36.90</td>\n",
       "    </tr>\n",
       "    <tr>\n",
       "      <th>11</th>\n",
       "      <td>DURACAO</td>\n",
       "      <td>1468104</td>\n",
       "      <td>854</td>\n",
       "      <td>0.06</td>\n",
       "      <td>969644</td>\n",
       "      <td>66.05</td>\n",
       "    </tr>\n",
       "    <tr>\n",
       "      <th>12</th>\n",
       "      <td>ALTURA_CM</td>\n",
       "      <td>1468104</td>\n",
       "      <td>218</td>\n",
       "      <td>0.01</td>\n",
       "      <td>1158902</td>\n",
       "      <td>78.94</td>\n",
       "    </tr>\n",
       "    <tr>\n",
       "      <th>13</th>\n",
       "      <td>IDADE_GESTACIONAL_MOMENTO_REACAO</td>\n",
       "      <td>1468104</td>\n",
       "      <td>63</td>\n",
       "      <td>0.00</td>\n",
       "      <td>1466535</td>\n",
       "      <td>99.89</td>\n",
       "    </tr>\n",
       "    <tr>\n",
       "      <th>14</th>\n",
       "      <td>UF</td>\n",
       "      <td>1468104</td>\n",
       "      <td>27</td>\n",
       "      <td>0.00</td>\n",
       "      <td>433069</td>\n",
       "      <td>29.50</td>\n",
       "    </tr>\n",
       "    <tr>\n",
       "      <th>15</th>\n",
       "      <td>TIPO_ENTRADA_VIGIMED</td>\n",
       "      <td>1468104</td>\n",
       "      <td>10</td>\n",
       "      <td>0.00</td>\n",
       "      <td>393</td>\n",
       "      <td>0.03</td>\n",
       "    </tr>\n",
       "    <tr>\n",
       "      <th>16</th>\n",
       "      <td>ACAO_ADOTADA</td>\n",
       "      <td>1468104</td>\n",
       "      <td>9</td>\n",
       "      <td>0.00</td>\n",
       "      <td>604638</td>\n",
       "      <td>41.18</td>\n",
       "    </tr>\n",
       "    <tr>\n",
       "      <th>17</th>\n",
       "      <td>GRAVIDADE</td>\n",
       "      <td>1468104</td>\n",
       "      <td>9</td>\n",
       "      <td>0.00</td>\n",
       "      <td>790414</td>\n",
       "      <td>53.84</td>\n",
       "    </tr>\n",
       "    <tr>\n",
       "      <th>18</th>\n",
       "      <td>RECEBIDO_DE</td>\n",
       "      <td>1468104</td>\n",
       "      <td>8</td>\n",
       "      <td>0.00</td>\n",
       "      <td>254103</td>\n",
       "      <td>17.31</td>\n",
       "    </tr>\n",
       "    <tr>\n",
       "      <th>19</th>\n",
       "      <td>GRUPO_IDADE</td>\n",
       "      <td>1468104</td>\n",
       "      <td>7</td>\n",
       "      <td>0.00</td>\n",
       "      <td>879600</td>\n",
       "      <td>59.91</td>\n",
       "    </tr>\n",
       "    <tr>\n",
       "      <th>20</th>\n",
       "      <td>NOTIFICADOR</td>\n",
       "      <td>1468104</td>\n",
       "      <td>7</td>\n",
       "      <td>0.00</td>\n",
       "      <td>71345</td>\n",
       "      <td>4.86</td>\n",
       "    </tr>\n",
       "    <tr>\n",
       "      <th>21</th>\n",
       "      <td>TIPO_NOTIFICACAO</td>\n",
       "      <td>1468104</td>\n",
       "      <td>7</td>\n",
       "      <td>0.00</td>\n",
       "      <td>0</td>\n",
       "      <td>0.00</td>\n",
       "    </tr>\n",
       "    <tr>\n",
       "      <th>22</th>\n",
       "      <td>DESFECHO</td>\n",
       "      <td>1468104</td>\n",
       "      <td>7</td>\n",
       "      <td>0.00</td>\n",
       "      <td>239166</td>\n",
       "      <td>16.29</td>\n",
       "    </tr>\n",
       "    <tr>\n",
       "      <th>23</th>\n",
       "      <td>RELACAO_MEDICAMENTO_EVENTO</td>\n",
       "      <td>1468104</td>\n",
       "      <td>6</td>\n",
       "      <td>0.00</td>\n",
       "      <td>5</td>\n",
       "      <td>0.00</td>\n",
       "    </tr>\n",
       "    <tr>\n",
       "      <th>24</th>\n",
       "      <td>LACTANTE</td>\n",
       "      <td>1468104</td>\n",
       "      <td>3</td>\n",
       "      <td>0.00</td>\n",
       "      <td>880969</td>\n",
       "      <td>60.01</td>\n",
       "    </tr>\n",
       "    <tr>\n",
       "      <th>25</th>\n",
       "      <td>GRAVE</td>\n",
       "      <td>1468104</td>\n",
       "      <td>3</td>\n",
       "      <td>0.00</td>\n",
       "      <td>338273</td>\n",
       "      <td>23.04</td>\n",
       "    </tr>\n",
       "    <tr>\n",
       "      <th>26</th>\n",
       "      <td>GESTANTE</td>\n",
       "      <td>1468104</td>\n",
       "      <td>3</td>\n",
       "      <td>0.00</td>\n",
       "      <td>880989</td>\n",
       "      <td>60.01</td>\n",
       "    </tr>\n",
       "    <tr>\n",
       "      <th>27</th>\n",
       "      <td>SEXO</td>\n",
       "      <td>1468104</td>\n",
       "      <td>3</td>\n",
       "      <td>0.00</td>\n",
       "      <td>53331</td>\n",
       "      <td>3.63</td>\n",
       "    </tr>\n",
       "    <tr>\n",
       "      <th>28</th>\n",
       "      <td>NOTIFICACAO_PARENT_CHILD</td>\n",
       "      <td>1468104</td>\n",
       "      <td>1</td>\n",
       "      <td>0.00</td>\n",
       "      <td>1462768</td>\n",
       "      <td>99.64</td>\n",
       "    </tr>\n",
       "    <tr>\n",
       "      <th>29</th>\n",
       "      <td>arquivo</td>\n",
       "      <td>1468104</td>\n",
       "      <td>1</td>\n",
       "      <td>0.00</td>\n",
       "      <td>0</td>\n",
       "      <td>0.00</td>\n",
       "    </tr>\n",
       "  </tbody>\n",
       "</table>\n",
       "</div>"
      ],
      "text/plain": [
       "                              coluna  n_registros  n_distintos  %_distintos  n_nulos  %_nulos\n",
       "0          IDENTIFICACAO_NOTIFICACAO      1468104       276940        18.86        0     0.00\n",
       "1                    DATA_NASCIMENTO      1468104        34301         2.34   379736    25.87\n",
       "2                   DATA_INICIO_HORA      1468104        25440         1.73   392310    26.72\n",
       "3                    DATA_FINAL_HORA      1468104        20192         1.38   723841    49.30\n",
       "4       REACAO_EVENTO_ADVERSO_MEDDRA      1468104        13916         0.95     1572     0.11\n",
       "5           NOME_MEDICAMENTO_WHODRUG      1468104         7631         0.52     2621     0.18\n",
       "6                            PESO_KG      1468104         4114         0.28   890084    60.63\n",
       "7                   DATA_NOTIFICACAO      1468104         2962         0.20   698181    47.56\n",
       "8            DATA_ULTIMA_ATUALIZACAO      1468104         2320         0.16      326     0.02\n",
       "9              DATA_INCLUSAO_SISTEMA      1468104         2319         0.16        0     0.00\n",
       "10              IDADE_MOMENTO_REACAO      1468104         1226         0.08   541752    36.90\n",
       "11                           DURACAO      1468104          854         0.06   969644    66.05\n",
       "12                         ALTURA_CM      1468104          218         0.01  1158902    78.94\n",
       "13  IDADE_GESTACIONAL_MOMENTO_REACAO      1468104           63         0.00  1466535    99.89\n",
       "14                                UF      1468104           27         0.00   433069    29.50\n",
       "15              TIPO_ENTRADA_VIGIMED      1468104           10         0.00      393     0.03\n",
       "16                      ACAO_ADOTADA      1468104            9         0.00   604638    41.18\n",
       "17                         GRAVIDADE      1468104            9         0.00   790414    53.84\n",
       "18                       RECEBIDO_DE      1468104            8         0.00   254103    17.31\n",
       "19                       GRUPO_IDADE      1468104            7         0.00   879600    59.91\n",
       "20                       NOTIFICADOR      1468104            7         0.00    71345     4.86\n",
       "21                  TIPO_NOTIFICACAO      1468104            7         0.00        0     0.00\n",
       "22                          DESFECHO      1468104            7         0.00   239166    16.29\n",
       "23        RELACAO_MEDICAMENTO_EVENTO      1468104            6         0.00        5     0.00\n",
       "24                          LACTANTE      1468104            3         0.00   880969    60.01\n",
       "25                             GRAVE      1468104            3         0.00   338273    23.04\n",
       "26                          GESTANTE      1468104            3         0.00   880989    60.01\n",
       "27                              SEXO      1468104            3         0.00    53331     3.63\n",
       "28          NOTIFICACAO_PARENT_CHILD      1468104            1         0.00  1462768    99.64\n",
       "29                           arquivo      1468104            1         0.00        0     0.00"
      ]
     },
     "execution_count": 7,
     "metadata": {},
     "output_type": "execute_result"
    }
   ],
   "source": [
    "summary_cols"
   ]
  },
  {
   "cell_type": "code",
   "execution_count": 9,
   "id": "b9eab232",
   "metadata": {},
   "outputs": [
    {
     "name": "stdout",
     "output_type": "stream",
     "text": [
      "\n",
      "Resumo por linhas do dataset:\n",
      " total_linhas           1468104.00\n",
      "linhas_distintas        553689.00\n",
      "%_linhas_distintas          37.71\n",
      "linhas_duplicadas       914415.00\n",
      "%_linhas_duplicadas         62.29\n",
      "dtype: float64\n"
     ]
    }
   ],
   "source": [
    "print(\"\\nResumo por linhas do dataset:\\n\", summary_rows)"
   ]
  },
  {
   "cell_type": "markdown",
   "id": "60c079ab",
   "metadata": {},
   "source": [
    "# NOTIFICACAO_PARENT_CHILD"
   ]
  },
  {
   "cell_type": "code",
   "execution_count": 21,
   "id": "072c6d34",
   "metadata": {},
   "outputs": [
    {
     "data": {
      "text/plain": [
       "NOTIFICACAO_PARENT_CHILD\n",
       "Sim    5336\n",
       "Name: count, dtype: int64"
      ]
     },
     "execution_count": 21,
     "metadata": {},
     "output_type": "execute_result"
    }
   ],
   "source": [
    "df_final.NOTIFICACAO_PARENT_CHILD.value_counts()"
   ]
  },
  {
   "cell_type": "markdown",
   "id": "d5da30d9",
   "metadata": {},
   "source": [
    "# SEXO"
   ]
  },
  {
   "cell_type": "code",
   "execution_count": 22,
   "id": "56193c0a",
   "metadata": {},
   "outputs": [
    {
     "data": {
      "text/plain": [
       "SEXO\n",
       "Feminino        879150\n",
       "Masculino       530267\n",
       "Desconhecido      5356\n",
       "Name: count, dtype: int64"
      ]
     },
     "execution_count": 22,
     "metadata": {},
     "output_type": "execute_result"
    }
   ],
   "source": [
    "df_final.SEXO.value_counts()"
   ]
  },
  {
   "cell_type": "markdown",
   "id": "8bb206c3",
   "metadata": {},
   "source": [
    "# GESTANTE "
   ]
  },
  {
   "cell_type": "code",
   "execution_count": 23,
   "id": "966ca85d",
   "metadata": {},
   "outputs": [
    {
     "data": {
      "text/plain": [
       "GESTANTE\n",
       "Não     464872\n",
       "Năo     114639\n",
       "Sim       7604\n",
       "Name: count, dtype: int64"
      ]
     },
     "execution_count": 23,
     "metadata": {},
     "output_type": "execute_result"
    }
   ],
   "source": [
    "df_final.GESTANTE.value_counts()"
   ]
  },
  {
   "cell_type": "markdown",
   "id": "c356a779",
   "metadata": {},
   "source": [
    "# LACTANTE"
   ]
  },
  {
   "cell_type": "code",
   "execution_count": 24,
   "id": "b3597231",
   "metadata": {},
   "outputs": [
    {
     "data": {
      "text/plain": [
       "LACTANTE\n",
       "Não     464564\n",
       "Năo     114562\n",
       "Sim       8009\n",
       "Name: count, dtype: int64"
      ]
     },
     "execution_count": 24,
     "metadata": {},
     "output_type": "execute_result"
    }
   ],
   "source": [
    "df_final.LACTANTE.value_counts()"
   ]
  },
  {
   "cell_type": "code",
   "execution_count": 25,
   "id": "ee427f97",
   "metadata": {},
   "outputs": [
    {
     "data": {
      "text/plain": [
       "array(['Não ', None, 'Sim', 'Năo '], dtype=object)"
      ]
     },
     "execution_count": 25,
     "metadata": {},
     "output_type": "execute_result"
    }
   ],
   "source": [
    "df_final.LACTANTE.unique()"
   ]
  },
  {
   "cell_type": "code",
   "execution_count": null,
   "id": "ea1237e8",
   "metadata": {},
   "outputs": [],
   "source": []
  },
  {
   "cell_type": "markdown",
   "id": "44fe97c0",
   "metadata": {},
   "source": [
    "# DATA_INICIO_HORA"
   ]
  },
  {
   "cell_type": "code",
   "execution_count": null,
   "id": "a2abcac7",
   "metadata": {},
   "outputs": [
    {
     "data": {
      "text/plain": [
       "DATA_INICIO_HORA\n",
       "22:18:00              5\n",
       "20290611 23:00        6\n",
       "20251028 09:10:00     5\n",
       "20251010 14:00:00     5\n",
       "20250627              5\n",
       "20250607              5\n",
       "20250510             10\n",
       "20250509             15\n",
       "20250509             10\n",
       "20250508 12:20:10     5\n",
       "Name: count, dtype: int64"
      ]
     },
     "execution_count": 10,
     "metadata": {},
     "output_type": "execute_result"
    }
   ],
   "source": [
    "df_final.DATA_INICIO_HORA.value_counts().sort_index(ascending=False).head(10)"
   ]
  },
  {
   "cell_type": "code",
   "execution_count": 11,
   "id": "404afbc7",
   "metadata": {},
   "outputs": [
    {
     "data": {
      "text/plain": [
       "DATA_FINAL_HORA\n",
       "23:10:00             5\n",
       "22:00:00             5\n",
       "21:30                6\n",
       "20420809             5\n",
       "20260529             5\n",
       "20251031 23:30:00    5\n",
       "20251028 09:55:00    5\n",
       "20251010 17:00:00    5\n",
       "20250607             5\n",
       "20250511             5\n",
       "Name: count, dtype: int64"
      ]
     },
     "execution_count": 11,
     "metadata": {},
     "output_type": "execute_result"
    }
   ],
   "source": [
    "df_final.DATA_FINAL_HORA.value_counts().sort_index(ascending=False).head(10)"
   ]
  },
  {
   "cell_type": "markdown",
   "id": "cac0abdd",
   "metadata": {},
   "source": [
    "# RELACAO_MEDICAMENTO_EVENTO"
   ]
  },
  {
   "cell_type": "code",
   "execution_count": 17,
   "id": "4de37681",
   "metadata": {},
   "outputs": [
    {
     "data": {
      "text/plain": [
       "RELACAO_MEDICAMENTO_EVENTO\n",
       "Suspeito                        1419862\n",
       "Medicamento não administrado      28159\n",
       "Concomitante                       9619\n",
       "Medicamento năo administrado       7029\n",
       "Interação                          2771\n",
       "Interaçăo                           659\n",
       "Name: count, dtype: int64"
      ]
     },
     "execution_count": 17,
     "metadata": {},
     "output_type": "execute_result"
    }
   ],
   "source": [
    "df_final.RELACAO_MEDICAMENTO_EVENTO.value_counts()\n"
   ]
  },
  {
   "cell_type": "markdown",
   "id": "645ae4bc",
   "metadata": {},
   "source": [
    "# GRAVE"
   ]
  },
  {
   "cell_type": "code",
   "execution_count": 13,
   "id": "ac63cdab",
   "metadata": {},
   "outputs": [
    {
     "data": {
      "text/plain": [
       "GRAVE\n",
       "Sim    652527\n",
       "Não    386559\n",
       "Năo     90745\n",
       "Name: count, dtype: int64"
      ]
     },
     "execution_count": 13,
     "metadata": {},
     "output_type": "execute_result"
    }
   ],
   "source": [
    "df_final.GRAVE.value_counts()\n"
   ]
  },
  {
   "cell_type": "code",
   "execution_count": 14,
   "id": "4e675d77",
   "metadata": {},
   "outputs": [
    {
     "data": {
      "text/plain": [
       "array(['Sim', 'Não', None, 'Năo'], dtype=object)"
      ]
     },
     "execution_count": 14,
     "metadata": {},
     "output_type": "execute_result"
    }
   ],
   "source": [
    "df_final.GRAVE.unique()"
   ]
  },
  {
   "cell_type": "markdown",
   "id": "34873b11",
   "metadata": {},
   "source": [
    "# DESFECHO"
   ]
  },
  {
   "cell_type": "code",
   "execution_count": 15,
   "id": "badff93b",
   "metadata": {},
   "outputs": [
    {
     "data": {
      "text/plain": [
       "DESFECHO\n",
       "Recuperado        687892\n",
       "Năo Recuperado     19880\n",
       "Não Recuperado     85583\n",
       "Fatal              52241\n",
       "Em recuperaçăo     25507\n",
       "Em recuperação    111163\n",
       "Desconhecido      246672\n",
       "Name: count, dtype: int64"
      ]
     },
     "execution_count": 15,
     "metadata": {},
     "output_type": "execute_result"
    }
   ],
   "source": [
    "df_final.DESFECHO.value_counts().sort_index(ascending=False)"
   ]
  },
  {
   "cell_type": "markdown",
   "id": "bc79f07e",
   "metadata": {},
   "source": [
    "# SOC"
   ]
  },
  {
   "cell_type": "code",
   "execution_count": 28,
   "id": "532109fe",
   "metadata": {},
   "outputs": [
    {
     "ename": "AttributeError",
     "evalue": "'DataFrame' object has no attribute 'SOC'",
     "output_type": "error",
     "traceback": [
      "\u001b[0;31m---------------------------------------------------------------------------\u001b[0m",
      "\u001b[0;31mAttributeError\u001b[0m                            Traceback (most recent call last)",
      "\u001b[0;32m/var/folders/3f/4ngtskrn0qb7zk9h74kkjxj80000gp/T/ipykernel_1455/3863046049.py\u001b[0m in \u001b[0;36m?\u001b[0;34m()\u001b[0m\n\u001b[0;32m----> 1\u001b[0;31m \u001b[0mdf_final\u001b[0m\u001b[0;34m.\u001b[0m\u001b[0mSOC\u001b[0m\u001b[0;34m.\u001b[0m\u001b[0mvalue_counts\u001b[0m\u001b[0;34m(\u001b[0m\u001b[0;34m)\u001b[0m\u001b[0;34m\u001b[0m\u001b[0;34m\u001b[0m\u001b[0m\n\u001b[0m",
      "\u001b[0;32m~/dev/nu/momo/.venv/lib/python3.9/site-packages/pandas/core/generic.py\u001b[0m in \u001b[0;36m?\u001b[0;34m(self, name)\u001b[0m\n\u001b[1;32m   6295\u001b[0m             \u001b[0;32mand\u001b[0m \u001b[0mname\u001b[0m \u001b[0;32mnot\u001b[0m \u001b[0;32min\u001b[0m \u001b[0mself\u001b[0m\u001b[0;34m.\u001b[0m\u001b[0m_accessors\u001b[0m\u001b[0;34m\u001b[0m\u001b[0;34m\u001b[0m\u001b[0m\n\u001b[1;32m   6296\u001b[0m             \u001b[0;32mand\u001b[0m \u001b[0mself\u001b[0m\u001b[0;34m.\u001b[0m\u001b[0m_info_axis\u001b[0m\u001b[0;34m.\u001b[0m\u001b[0m_can_hold_identifiers_and_holds_name\u001b[0m\u001b[0;34m(\u001b[0m\u001b[0mname\u001b[0m\u001b[0;34m)\u001b[0m\u001b[0;34m\u001b[0m\u001b[0;34m\u001b[0m\u001b[0m\n\u001b[1;32m   6297\u001b[0m         ):\n\u001b[1;32m   6298\u001b[0m             \u001b[0;32mreturn\u001b[0m \u001b[0mself\u001b[0m\u001b[0;34m[\u001b[0m\u001b[0mname\u001b[0m\u001b[0;34m]\u001b[0m\u001b[0;34m\u001b[0m\u001b[0;34m\u001b[0m\u001b[0m\n\u001b[0;32m-> 6299\u001b[0;31m         \u001b[0;32mreturn\u001b[0m \u001b[0mobject\u001b[0m\u001b[0;34m.\u001b[0m\u001b[0m__getattribute__\u001b[0m\u001b[0;34m(\u001b[0m\u001b[0mself\u001b[0m\u001b[0;34m,\u001b[0m \u001b[0mname\u001b[0m\u001b[0;34m)\u001b[0m\u001b[0;34m\u001b[0m\u001b[0;34m\u001b[0m\u001b[0m\n\u001b[0m",
      "\u001b[0;31mAttributeError\u001b[0m: 'DataFrame' object has no attribute 'SOC'"
     ]
    }
   ],
   "source": [
    "df_final.SOC.value_counts()"
   ]
  },
  {
   "cell_type": "markdown",
   "id": "4eb31aad",
   "metadata": {},
   "source": [
    "# GRAVIDADE"
   ]
  },
  {
   "cell_type": "code",
   "execution_count": 27,
   "id": "3383b7dc",
   "metadata": {},
   "outputs": [
    {
     "data": {
      "text/plain": [
       "GRAVIDADE\n",
       "Outro efeito clinicamente significativo        395645\n",
       "Hospitalização                                 121920\n",
       "Resultou em óbito                               52953\n",
       "Ameaça à vida                                   37888\n",
       "Incapacidade persistente ou significativa       31063\n",
       "Hospitalizaçăo                                  28746\n",
       "Ameaça ŕ vida                                    8756\n",
       "Anomalia congênita ou malformação ao nascer       583\n",
       "Anomalia congęnita ou malformaçăo ao nascer       136\n",
       "Name: count, dtype: int64"
      ]
     },
     "execution_count": 27,
     "metadata": {},
     "output_type": "execute_result"
    }
   ],
   "source": [
    "df_final.GRAVIDADE.value_counts()"
   ]
  },
  {
   "cell_type": "code",
   "execution_count": null,
   "id": "d851d9b7",
   "metadata": {},
   "outputs": [],
   "source": []
  }
 ],
 "metadata": {
  "kernelspec": {
   "display_name": ".venv",
   "language": "python",
   "name": "python3"
  },
  "language_info": {
   "codemirror_mode": {
    "name": "ipython",
    "version": 3
   },
   "file_extension": ".py",
   "mimetype": "text/x-python",
   "name": "python",
   "nbconvert_exporter": "python",
   "pygments_lexer": "ipython3",
   "version": "3.9.21"
  }
 },
 "nbformat": 4,
 "nbformat_minor": 5
}
