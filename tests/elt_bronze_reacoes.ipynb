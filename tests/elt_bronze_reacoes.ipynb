{
 "cells": [
  {
   "cell_type": "markdown",
   "id": "e32c50fb",
   "metadata": {},
   "source": [
    "# ELT"
   ]
  },
  {
   "cell_type": "code",
   "execution_count": 1,
   "id": "cdba7443",
   "metadata": {},
   "outputs": [],
   "source": [
    "import pandas as pd\n",
    "from datetime import datetime"
   ]
  },
  {
   "cell_type": "code",
   "execution_count": 2,
   "id": "7919ab23",
   "metadata": {},
   "outputs": [
    {
     "name": "stdout",
     "output_type": "stream",
     "text": [
      "C:\\\\Users\\\\silma\\\\OneDrive\\\\Área de Trabalho\\\\Mestrado\\\\vigimed\\\\data\\\\01_bronze\\reacoes\\2025_07_14_10_08_04.parquet\n"
     ]
    }
   ],
   "source": [
    "layer ='01_bronze'\n",
    "dataset = 'reacoes'\n",
    "ts = datetime.now().strftime(\"%Y_%m_%d_%H_%M_%S\") #'2025_06_30_14_17_00'\n",
    "input = r'C:\\\\Users\\\\silma\\\\Downloads\\\\' \n",
    "output = r\"C:\\\\Users\\\\silma\\\\OneDrive\\\\Área de Trabalho\\\\Mestrado\\\\vigimed\\\\data\\\\\"+layer+\"\\\\\"+dataset+\"\\\\\"+ts+\".parquet\"\n",
    "print(output)"
   ]
  },
  {
   "cell_type": "markdown",
   "id": "06bca818",
   "metadata": {},
   "source": [
    "# Input"
   ]
  },
  {
   "cell_type": "code",
   "execution_count": 3,
   "id": "34fe1cfa",
   "metadata": {},
   "outputs": [
    {
     "name": "stdout",
     "output_type": "stream",
     "text": [
      "  IDENTIFICACAO_NOTIFICACAO REACAO_EVTO_ADVERSO_MEDDRA_LLT  \\\n",
      "0       BR-ANVISA-300000004                        Coceira   \n",
      "1       BR-ANVISA-300000005              Edema periorbital   \n",
      "2       BR-ANVISA-300000007              Exantema alérgico   \n",
      "3       BR-ANVISA-300000008                        Flebite   \n",
      "4       BR-ANVISA-300000010                     Parestesia   \n",
      "\n",
      "                   PT                        HLT  \\\n",
      "0             Prurido                Prurido NCO   \n",
      "1   Edema periorbital    Distúrbios oculares NCO   \n",
      "2  Dermatite alérgica         Dermatite e eczema   \n",
      "3             Flebite                Flebite NCO   \n",
      "4          Parestesia  Parestesias e disestesias   \n",
      "\n",
      "                                      HLGT  \\\n",
      "0  Quadros clínicos epidérmicos e dérmicos   \n",
      "1                 Transtornos oculares NCO   \n",
      "2  Quadros clínicos epidérmicos e dérmicos   \n",
      "3       Infecções e inflamações vasculares   \n",
      "4              Distúrbios neurológicos NCO   \n",
      "\n",
      "                                             SOC DATA_INICIO_HORA  \\\n",
      "0  Distúrbios dos tecidos cutâneos e subcutâneos              NaN   \n",
      "1                            Distúrbios oculares         20181122   \n",
      "2  Distúrbios dos tecidos cutâneos e subcutâneos         20181115   \n",
      "3                          Distúrbios vasculares         20181025   \n",
      "4                  Distúrbios do sistema nervoso           201508   \n",
      "\n",
      "  DATA_FINAL_HORA DURACAO GRAVE  \\\n",
      "0             NaN   3 dia   Não   \n",
      "1        20181122     NaN   Sim   \n",
      "2             NaN   2 dia   Sim   \n",
      "3             NaN   5 dia   Sim   \n",
      "4          201508     NaN   Sim   \n",
      "\n",
      "                                        GRAVIDADE              DESFECHO  \n",
      "0                                             NaN  Recuperado/Resolvido  \n",
      "1         Outro efeito clinicamente significativo  Recuperado/Resolvido  \n",
      "2         Outro efeito clinicamente significativo  Recuperado/Resolvido  \n",
      "3         Outro efeito clinicamente significativo  Recuperado/Resolvido  \n",
      "4  Hospitalização/Prolongamento de hospitalização  Recuperado/Resolvido  \n"
     ]
    }
   ],
   "source": [
    "df = pd.read_csv(input+'\\\\VigiMed_Reacoes.csv', \n",
    "                 encoding='latin-1', \n",
    "                 sep=';', \n",
    "                 header=0, \n",
    "                 dtype=str,\n",
    "                 low_memory=False\n",
    "                 )\n",
    "\n",
    "print(df.head())"
   ]
  },
  {
   "cell_type": "markdown",
   "id": "79b9e8a9",
   "metadata": {},
   "source": [
    "# Output"
   ]
  },
  {
   "cell_type": "code",
   "execution_count": 4,
   "id": "e3c25b9d",
   "metadata": {},
   "outputs": [],
   "source": [
    "df.to_parquet(output, compression=\"snappy\", index=False)"
   ]
  }
 ],
 "metadata": {
  "kernelspec": {
   "display_name": ".venv",
   "language": "python",
   "name": "python3"
  },
  "language_info": {
   "codemirror_mode": {
    "name": "ipython",
    "version": 3
   },
   "file_extension": ".py",
   "mimetype": "text/x-python",
   "name": "python",
   "nbconvert_exporter": "python",
   "pygments_lexer": "ipython3",
   "version": "3.9.13"
  }
 },
 "nbformat": 4,
 "nbformat_minor": 5
}
