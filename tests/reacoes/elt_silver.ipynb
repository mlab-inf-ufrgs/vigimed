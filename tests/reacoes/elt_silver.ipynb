{
 "cells": [
  {
   "cell_type": "code",
   "execution_count": 3,
   "id": "8054e8fb",
   "metadata": {},
   "outputs": [
    {
     "name": "stdout",
     "output_type": "stream",
     "text": [
      "/Users/silmara.barnabe/Desktop/Projects/vigimed/data/03_silver/reacoes/2025_08_14_11_46_21.parquet\n"
     ]
    }
   ],
   "source": [
    "import pandas as pd\n",
    "from pathlib import Path\n",
    "from datetime import datetime \n",
    "\n",
    "# Mostra todas as colunas, sem limite\n",
    "pd.set_option('display.max_columns', None)\n",
    "\n",
    "# (Opcional) Ajustes que costumam ajudar:\n",
    "pd.set_option('display.expand_frame_repr', False)   # evita quebra de linha\n",
    "pd.set_option('display.max_colwidth', None)         # mostra o conteúdo completo das células\n",
    "pd.set_option('display.width', 0)  \n",
    "\n",
    "# Pasta com os arquivos Parquet\n",
    "pasta = Path(\"/Users/silmara.barnabe/Desktop/Projects/vigimed/data/02_bronze/reacoes\")\n",
    "layer ='03_silver'\n",
    "dataset = 'reacoes'\n",
    "ts = datetime.now().strftime(\"%Y_%m_%d_%H_%M_%S\") #'2025_06_30_14_17_00'\n",
    "output = \"/Users/silmara.barnabe/Desktop/Projects/vigimed/data/\"+layer+\"/\"+dataset+\"/\"+ts+\".parquet\"\n",
    "print(output) "
   ]
  },
  {
   "cell_type": "markdown",
   "id": "2761bc0b",
   "metadata": {},
   "source": [
    "# dates"
   ]
  },
  {
   "cell_type": "code",
   "execution_count": 5,
   "id": "713d188f",
   "metadata": {},
   "outputs": [
    {
     "name": "stdout",
     "output_type": "stream",
     "text": [
      "DataFrames concatenados com sucesso!\n"
     ]
    },
    {
     "data": {
      "text/html": [
       "<div>\n",
       "<style scoped>\n",
       "    .dataframe tbody tr th:only-of-type {\n",
       "        vertical-align: middle;\n",
       "    }\n",
       "\n",
       "    .dataframe tbody tr th {\n",
       "        vertical-align: top;\n",
       "    }\n",
       "\n",
       "    .dataframe thead th {\n",
       "        text-align: right;\n",
       "    }\n",
       "</style>\n",
       "<table border=\"1\" class=\"dataframe\">\n",
       "  <thead>\n",
       "    <tr style=\"text-align: right;\">\n",
       "      <th></th>\n",
       "      <th>IDENTIFICACAO_NOTIFICACAO</th>\n",
       "      <th>REACAO_EVTO_ADVERSO_MEDDRA_LLT</th>\n",
       "      <th>PT</th>\n",
       "      <th>HLT</th>\n",
       "      <th>HLGT</th>\n",
       "      <th>SOC</th>\n",
       "      <th>DATA_INICIO_HORA</th>\n",
       "      <th>DATA_FINAL_HORA</th>\n",
       "      <th>DURACAO</th>\n",
       "      <th>GRAVE</th>\n",
       "      <th>GRAVIDADE</th>\n",
       "      <th>DESFECHO</th>\n",
       "      <th>arquivo</th>\n",
       "    </tr>\n",
       "  </thead>\n",
       "  <tbody>\n",
       "    <tr>\n",
       "      <th>0</th>\n",
       "      <td>BR-ANVISA-300000004</td>\n",
       "      <td>Coceira</td>\n",
       "      <td>Prurido</td>\n",
       "      <td>Prurido NCO</td>\n",
       "      <td>Quadros clínicos epidérmicos e dérmicos</td>\n",
       "      <td>Distúrbios dos tecidos cutâneos e subcutâneos</td>\n",
       "      <td>None</td>\n",
       "      <td>None</td>\n",
       "      <td>3 dia</td>\n",
       "      <td>Não</td>\n",
       "      <td>None</td>\n",
       "      <td>Recuperado/Resolvido</td>\n",
       "      <td>2025_08_14_11_22_38.parquet</td>\n",
       "    </tr>\n",
       "    <tr>\n",
       "      <th>1</th>\n",
       "      <td>BR-ANVISA-300000005</td>\n",
       "      <td>Edema periorbital</td>\n",
       "      <td>Edema periorbital</td>\n",
       "      <td>Distúrbios oculares NCO</td>\n",
       "      <td>Transtornos oculares NCO</td>\n",
       "      <td>Distúrbios oculares</td>\n",
       "      <td>20181122</td>\n",
       "      <td>20181122</td>\n",
       "      <td>None</td>\n",
       "      <td>Sim</td>\n",
       "      <td>Outro efeito clinicamente significativo</td>\n",
       "      <td>Recuperado/Resolvido</td>\n",
       "      <td>2025_08_14_11_22_38.parquet</td>\n",
       "    </tr>\n",
       "    <tr>\n",
       "      <th>2</th>\n",
       "      <td>BR-ANVISA-300000007</td>\n",
       "      <td>Exantema alérgico</td>\n",
       "      <td>Dermatite alérgica</td>\n",
       "      <td>Dermatite e eczema</td>\n",
       "      <td>Quadros clínicos epidérmicos e dérmicos</td>\n",
       "      <td>Distúrbios dos tecidos cutâneos e subcutâneos</td>\n",
       "      <td>20181115</td>\n",
       "      <td>None</td>\n",
       "      <td>2 dia</td>\n",
       "      <td>Sim</td>\n",
       "      <td>Outro efeito clinicamente significativo</td>\n",
       "      <td>Recuperado/Resolvido</td>\n",
       "      <td>2025_08_14_11_22_38.parquet</td>\n",
       "    </tr>\n",
       "    <tr>\n",
       "      <th>3</th>\n",
       "      <td>BR-ANVISA-300000008</td>\n",
       "      <td>Flebite</td>\n",
       "      <td>Flebite</td>\n",
       "      <td>Flebite NCO</td>\n",
       "      <td>Infecções e inflamações vasculares</td>\n",
       "      <td>Distúrbios vasculares</td>\n",
       "      <td>20181025</td>\n",
       "      <td>None</td>\n",
       "      <td>5 dia</td>\n",
       "      <td>Sim</td>\n",
       "      <td>Outro efeito clinicamente significativo</td>\n",
       "      <td>Recuperado/Resolvido</td>\n",
       "      <td>2025_08_14_11_22_38.parquet</td>\n",
       "    </tr>\n",
       "    <tr>\n",
       "      <th>4</th>\n",
       "      <td>BR-ANVISA-300000010</td>\n",
       "      <td>Parestesia</td>\n",
       "      <td>Parestesia</td>\n",
       "      <td>Parestesias e disestesias</td>\n",
       "      <td>Distúrbios neurológicos NCO</td>\n",
       "      <td>Distúrbios do sistema nervoso</td>\n",
       "      <td>201508</td>\n",
       "      <td>201508</td>\n",
       "      <td>None</td>\n",
       "      <td>Sim</td>\n",
       "      <td>Hospitalização/Prolongamento de hospitalização</td>\n",
       "      <td>Recuperado/Resolvido</td>\n",
       "      <td>2025_08_14_11_22_38.parquet</td>\n",
       "    </tr>\n",
       "  </tbody>\n",
       "</table>\n",
       "</div>"
      ],
      "text/plain": [
       "  IDENTIFICACAO_NOTIFICACAO REACAO_EVTO_ADVERSO_MEDDRA_LLT                  PT                        HLT                                     HLGT                                            SOC DATA_INICIO_HORA DATA_FINAL_HORA DURACAO GRAVE                                       GRAVIDADE              DESFECHO                      arquivo\n",
       "0       BR-ANVISA-300000004                        Coceira             Prurido                Prurido NCO  Quadros clínicos epidérmicos e dérmicos  Distúrbios dos tecidos cutâneos e subcutâneos             None            None   3 dia   Não                                            None  Recuperado/Resolvido  2025_08_14_11_22_38.parquet\n",
       "1       BR-ANVISA-300000005              Edema periorbital   Edema periorbital    Distúrbios oculares NCO                 Transtornos oculares NCO                            Distúrbios oculares         20181122        20181122    None   Sim         Outro efeito clinicamente significativo  Recuperado/Resolvido  2025_08_14_11_22_38.parquet\n",
       "2       BR-ANVISA-300000007              Exantema alérgico  Dermatite alérgica         Dermatite e eczema  Quadros clínicos epidérmicos e dérmicos  Distúrbios dos tecidos cutâneos e subcutâneos         20181115            None   2 dia   Sim         Outro efeito clinicamente significativo  Recuperado/Resolvido  2025_08_14_11_22_38.parquet\n",
       "3       BR-ANVISA-300000008                        Flebite             Flebite                Flebite NCO       Infecções e inflamações vasculares                          Distúrbios vasculares         20181025            None   5 dia   Sim         Outro efeito clinicamente significativo  Recuperado/Resolvido  2025_08_14_11_22_38.parquet\n",
       "4       BR-ANVISA-300000010                     Parestesia          Parestesia  Parestesias e disestesias              Distúrbios neurológicos NCO                  Distúrbios do sistema nervoso           201508          201508    None   Sim  Hospitalização/Prolongamento de hospitalização  Recuperado/Resolvido  2025_08_14_11_22_38.parquet"
      ]
     },
     "execution_count": 5,
     "metadata": {},
     "output_type": "execute_result"
    }
   ],
   "source": [
    "# Lista todos os arquivos parquet\n",
    "arquivos = list(pasta.glob(\"*.parquet\"))\n",
    "\n",
    "dfs = []\n",
    "\n",
    "for arquivo in arquivos:\n",
    "    try:\n",
    "        df_temp = pd.read_parquet(arquivo)\n",
    "        df_temp['arquivo'] = arquivo.name  # cria coluna com nome do arquivo\n",
    "        dfs.append(df_temp)\n",
    "    except Exception as e:\n",
    "        print(f\"Erro ao ler {arquivo.name}: {e}\")\n",
    "\n",
    "# Concatena todos os dataframes lidos\n",
    "if dfs:\n",
    "    df_final = pd.concat(dfs, ignore_index=True)\n",
    "    print(\"DataFrames concatenados com sucesso!\")\n",
    "else:\n",
    "    print(\"Nenhum arquivo foi carregado.\")\n",
    "\n",
    "# Mostra as primeiras linhas\n",
    "df_final.head()\n"
   ]
  },
  {
   "cell_type": "markdown",
   "id": "d35718cb",
   "metadata": {},
   "source": [
    "# Summary"
   ]
  },
  {
   "cell_type": "code",
   "execution_count": 6,
   "id": "c7e8c062",
   "metadata": {},
   "outputs": [
    {
     "name": "stdout",
     "output_type": "stream",
     "text": [
      "<class 'pandas.core.frame.DataFrame'>\n",
      "RangeIndex: 3125832 entries, 0 to 3125831\n",
      "Data columns (total 13 columns):\n",
      " #   Column                          Dtype \n",
      "---  ------                          ----- \n",
      " 0   IDENTIFICACAO_NOTIFICACAO       object\n",
      " 1   REACAO_EVTO_ADVERSO_MEDDRA_LLT  object\n",
      " 2   PT                              object\n",
      " 3   HLT                             object\n",
      " 4   HLGT                            object\n",
      " 5   SOC                             object\n",
      " 6   DATA_INICIO_HORA                object\n",
      " 7   DATA_FINAL_HORA                 object\n",
      " 8   DURACAO                         object\n",
      " 9   GRAVE                           object\n",
      " 10  GRAVIDADE                       object\n",
      " 11  DESFECHO                        object\n",
      " 12  arquivo                         object\n",
      "dtypes: object(13)\n",
      "memory usage: 310.0+ MB\n"
     ]
    }
   ],
   "source": [
    "df_final.info()"
   ]
  },
  {
   "cell_type": "code",
   "execution_count": 8,
   "id": "fd261ede",
   "metadata": {},
   "outputs": [],
   "source": [
    "def resumo_distintos_colunas(df: pd.DataFrame, cols=None) -> pd.DataFrame:\n",
    "    \"\"\"\n",
    "    Retorna um resumo por coluna com:\n",
    "    - n_registros (total de linhas)\n",
    "    - n_distintos\n",
    "    - %_distintos\n",
    "    - n_nulos\n",
    "    - %_nulos\n",
    "    \"\"\"\n",
    "    if cols is None:\n",
    "        cols = df.columns.tolist()\n",
    "    df2 = df[cols]\n",
    "    total = len(df2)\n",
    "\n",
    "    nunique = df2.nunique(dropna=True)\n",
    "    nnull = df2.isna().sum()\n",
    "\n",
    "    out = (\n",
    "        pd.DataFrame({\n",
    "            \"coluna\": nunique.index,\n",
    "            \"n_registros\": total,\n",
    "            \"n_distintos\": nunique.values,\n",
    "            \"%_distintos\": (nunique.values / total * 100) if total else 0.0,\n",
    "            \"n_nulos\": nnull.values,\n",
    "            \"%_nulos\": (nnull.values / total * 100) if total else 0.0,\n",
    "        })\n",
    "        .sort_values(\"%_distintos\", ascending=False)\n",
    "        .reset_index(drop=True)\n",
    "    )\n",
    "\n",
    "    if total:\n",
    "        out[\"%_distintos\"] = out[\"%_distintos\"].round(2)\n",
    "        out[\"%_nulos\"] = out[\"%_nulos\"].round(2)\n",
    "\n",
    "    return out\n",
    "\n",
    "\n",
    "def resumo_distintos_linhas(df: pd.DataFrame) -> pd.Series:\n",
    "    \"\"\"\n",
    "    Retorna um resumo do dataset considerando todas as colunas:\n",
    "    - total_linhas\n",
    "    - linhas_distintas\n",
    "    - %_linhas_distintas\n",
    "    - linhas_duplicadas\n",
    "    - %_linhas_duplicadas\n",
    "    \"\"\"\n",
    "    total = len(df)\n",
    "    distintos = len(df.drop_duplicates())\n",
    "    duplicados = total - distintos\n",
    "\n",
    "    pct_distintos = (distintos / total * 100) if total else 0.0\n",
    "    pct_duplicados = (duplicados / total * 100) if total else 0.0\n",
    "\n",
    "    return pd.Series({\n",
    "        \"total_linhas\": total,\n",
    "        \"linhas_distintas\": distintos,\n",
    "        \"%_linhas_distintas\": round(pct_distintos, 2),\n",
    "        \"linhas_duplicadas\": duplicados,\n",
    "        \"%_linhas_duplicadas\": round(pct_duplicados, 2),\n",
    "    })\n",
    "\n"
   ]
  },
  {
   "cell_type": "code",
   "execution_count": 11,
   "id": "864b5ac0",
   "metadata": {},
   "outputs": [],
   "source": [
    "\n",
    "# --- USO ---\n",
    "cols = [\n",
    "    \"IDENTIFICACAO_NOTIFICACAO\",\"REACAO_EVTO_ADVERSO_MEDDRA_LLT\",\"PT\",\"HLT\",\"HLGT\",\n",
    "    \"SOC\",\"DATA_INICIO_HORA\",\"DATA_FINAL_HORA\",\"DURACAO\",\"GRAVE\",\"GRAVIDADE\",\"DESFECHO\",\"arquivo\"\n",
    "]\n",
    "\n",
    "summary_cols = resumo_distintos_colunas(df_final, cols=cols)\n",
    "summary_rows = resumo_distintos_linhas(df_final)\n",
    " "
   ]
  },
  {
   "cell_type": "code",
   "execution_count": 12,
   "id": "dae5223d",
   "metadata": {},
   "outputs": [
    {
     "data": {
      "text/html": [
       "<div>\n",
       "<style scoped>\n",
       "    .dataframe tbody tr th:only-of-type {\n",
       "        vertical-align: middle;\n",
       "    }\n",
       "\n",
       "    .dataframe tbody tr th {\n",
       "        vertical-align: top;\n",
       "    }\n",
       "\n",
       "    .dataframe thead th {\n",
       "        text-align: right;\n",
       "    }\n",
       "</style>\n",
       "<table border=\"1\" class=\"dataframe\">\n",
       "  <thead>\n",
       "    <tr style=\"text-align: right;\">\n",
       "      <th></th>\n",
       "      <th>coluna</th>\n",
       "      <th>n_registros</th>\n",
       "      <th>n_distintos</th>\n",
       "      <th>%_distintos</th>\n",
       "      <th>n_nulos</th>\n",
       "      <th>%_nulos</th>\n",
       "    </tr>\n",
       "  </thead>\n",
       "  <tbody>\n",
       "    <tr>\n",
       "      <th>0</th>\n",
       "      <td>IDENTIFICACAO_NOTIFICACAO</td>\n",
       "      <td>3125832</td>\n",
       "      <td>299608</td>\n",
       "      <td>9.58</td>\n",
       "      <td>0</td>\n",
       "      <td>0.00</td>\n",
       "    </tr>\n",
       "    <tr>\n",
       "      <th>1</th>\n",
       "      <td>DATA_INICIO_HORA</td>\n",
       "      <td>3125832</td>\n",
       "      <td>25134</td>\n",
       "      <td>0.80</td>\n",
       "      <td>1378420</td>\n",
       "      <td>44.10</td>\n",
       "    </tr>\n",
       "    <tr>\n",
       "      <th>2</th>\n",
       "      <td>DATA_FINAL_HORA</td>\n",
       "      <td>3125832</td>\n",
       "      <td>19198</td>\n",
       "      <td>0.61</td>\n",
       "      <td>2243796</td>\n",
       "      <td>71.78</td>\n",
       "    </tr>\n",
       "    <tr>\n",
       "      <th>3</th>\n",
       "      <td>REACAO_EVTO_ADVERSO_MEDDRA_LLT</td>\n",
       "      <td>3125832</td>\n",
       "      <td>17878</td>\n",
       "      <td>0.57</td>\n",
       "      <td>62528</td>\n",
       "      <td>2.00</td>\n",
       "    </tr>\n",
       "    <tr>\n",
       "      <th>4</th>\n",
       "      <td>PT</td>\n",
       "      <td>3125832</td>\n",
       "      <td>8867</td>\n",
       "      <td>0.28</td>\n",
       "      <td>62528</td>\n",
       "      <td>2.00</td>\n",
       "    </tr>\n",
       "    <tr>\n",
       "      <th>5</th>\n",
       "      <td>HLT</td>\n",
       "      <td>3125832</td>\n",
       "      <td>1339</td>\n",
       "      <td>0.04</td>\n",
       "      <td>62528</td>\n",
       "      <td>2.00</td>\n",
       "    </tr>\n",
       "    <tr>\n",
       "      <th>6</th>\n",
       "      <td>DURACAO</td>\n",
       "      <td>3125832</td>\n",
       "      <td>995</td>\n",
       "      <td>0.03</td>\n",
       "      <td>2642784</td>\n",
       "      <td>84.55</td>\n",
       "    </tr>\n",
       "    <tr>\n",
       "      <th>7</th>\n",
       "      <td>HLGT</td>\n",
       "      <td>3125832</td>\n",
       "      <td>321</td>\n",
       "      <td>0.01</td>\n",
       "      <td>62528</td>\n",
       "      <td>2.00</td>\n",
       "    </tr>\n",
       "    <tr>\n",
       "      <th>8</th>\n",
       "      <td>GRAVIDADE</td>\n",
       "      <td>3125832</td>\n",
       "      <td>56</td>\n",
       "      <td>0.00</td>\n",
       "      <td>2100472</td>\n",
       "      <td>67.20</td>\n",
       "    </tr>\n",
       "    <tr>\n",
       "      <th>9</th>\n",
       "      <td>SOC</td>\n",
       "      <td>3125832</td>\n",
       "      <td>27</td>\n",
       "      <td>0.00</td>\n",
       "      <td>62528</td>\n",
       "      <td>2.00</td>\n",
       "    </tr>\n",
       "    <tr>\n",
       "      <th>10</th>\n",
       "      <td>DESFECHO</td>\n",
       "      <td>3125832</td>\n",
       "      <td>6</td>\n",
       "      <td>0.00</td>\n",
       "      <td>525864</td>\n",
       "      <td>16.82</td>\n",
       "    </tr>\n",
       "    <tr>\n",
       "      <th>11</th>\n",
       "      <td>GRAVE</td>\n",
       "      <td>3125832</td>\n",
       "      <td>2</td>\n",
       "      <td>0.00</td>\n",
       "      <td>669760</td>\n",
       "      <td>21.43</td>\n",
       "    </tr>\n",
       "    <tr>\n",
       "      <th>12</th>\n",
       "      <td>arquivo</td>\n",
       "      <td>3125832</td>\n",
       "      <td>1</td>\n",
       "      <td>0.00</td>\n",
       "      <td>0</td>\n",
       "      <td>0.00</td>\n",
       "    </tr>\n",
       "  </tbody>\n",
       "</table>\n",
       "</div>"
      ],
      "text/plain": [
       "                            coluna  n_registros  n_distintos  %_distintos  n_nulos  %_nulos\n",
       "0        IDENTIFICACAO_NOTIFICACAO      3125832       299608         9.58        0     0.00\n",
       "1                 DATA_INICIO_HORA      3125832        25134         0.80  1378420    44.10\n",
       "2                  DATA_FINAL_HORA      3125832        19198         0.61  2243796    71.78\n",
       "3   REACAO_EVTO_ADVERSO_MEDDRA_LLT      3125832        17878         0.57    62528     2.00\n",
       "4                               PT      3125832         8867         0.28    62528     2.00\n",
       "5                              HLT      3125832         1339         0.04    62528     2.00\n",
       "6                          DURACAO      3125832          995         0.03  2642784    84.55\n",
       "7                             HLGT      3125832          321         0.01    62528     2.00\n",
       "8                        GRAVIDADE      3125832           56         0.00  2100472    67.20\n",
       "9                              SOC      3125832           27         0.00    62528     2.00\n",
       "10                        DESFECHO      3125832            6         0.00   525864    16.82\n",
       "11                           GRAVE      3125832            2         0.00   669760    21.43\n",
       "12                         arquivo      3125832            1         0.00        0     0.00"
      ]
     },
     "execution_count": 12,
     "metadata": {},
     "output_type": "execute_result"
    }
   ],
   "source": [
    "summary_cols"
   ]
  },
  {
   "cell_type": "code",
   "execution_count": 13,
   "id": "b9eab232",
   "metadata": {},
   "outputs": [
    {
     "name": "stdout",
     "output_type": "stream",
     "text": [
      "\n",
      "Resumo por linhas do dataset:\n",
      " total_linhas           3125832.00\n",
      "linhas_distintas        776298.00\n",
      "%_linhas_distintas          24.83\n",
      "linhas_duplicadas      2349534.00\n",
      "%_linhas_duplicadas         75.17\n",
      "dtype: float64\n"
     ]
    }
   ],
   "source": [
    "print(\"\\nResumo por linhas do dataset:\\n\", summary_rows)"
   ]
  },
  {
   "cell_type": "markdown",
   "id": "44fe97c0",
   "metadata": {},
   "source": [
    "# DATA_INICIO_HORA"
   ]
  },
  {
   "cell_type": "code",
   "execution_count": 14,
   "id": "a2abcac7",
   "metadata": {},
   "outputs": [
    {
     "data": {
      "text/plain": [
       "DATA_INICIO_HORA\n",
       "241213               4\n",
       "241209               4\n",
       "241127               4\n",
       "241010               4\n",
       "230806               4\n",
       "22:18:00             4\n",
       "22:15:00             4\n",
       "2030826              4\n",
       "20290611 23:00       4\n",
       "20251220 21:40:00    4\n",
       "Name: count, dtype: int64"
      ]
     },
     "execution_count": 14,
     "metadata": {},
     "output_type": "execute_result"
    }
   ],
   "source": [
    "df_final.DATA_INICIO_HORA.value_counts().sort_index(ascending=False).head(10)"
   ]
  },
  {
   "cell_type": "code",
   "execution_count": 15,
   "id": "404afbc7",
   "metadata": {},
   "outputs": [
    {
     "data": {
      "text/plain": [
       "DATA_FINAL_HORA\n",
       "4                    4\n",
       "241202               4\n",
       "23:10:00             4\n",
       "22:00:00             8\n",
       "2240219              4\n",
       "21:30                4\n",
       "20:00:00             8\n",
       "20420809             4\n",
       "20260529             4\n",
       "20251220 22:00:00    4\n",
       "Name: count, dtype: int64"
      ]
     },
     "execution_count": 15,
     "metadata": {},
     "output_type": "execute_result"
    }
   ],
   "source": [
    "df_final.DATA_FINAL_HORA.value_counts().sort_index(ascending=False).head(10)"
   ]
  },
  {
   "cell_type": "markdown",
   "id": "645ae4bc",
   "metadata": {},
   "source": [
    "# GRAVE"
   ]
  },
  {
   "cell_type": "code",
   "execution_count": 19,
   "id": "ac63cdab",
   "metadata": {},
   "outputs": [
    {
     "data": {
      "text/plain": [
       "GRAVE\n",
       "Não    1429552\n",
       "Sim    1026520\n",
       "Name: count, dtype: int64"
      ]
     },
     "execution_count": 19,
     "metadata": {},
     "output_type": "execute_result"
    }
   ],
   "source": [
    "df_final.GRAVE.value_counts().sort_index(ascending=True).head(10)"
   ]
  },
  {
   "cell_type": "markdown",
   "id": "34873b11",
   "metadata": {},
   "source": [
    "# DESFECHO"
   ]
  },
  {
   "cell_type": "code",
   "execution_count": 18,
   "id": "badff93b",
   "metadata": {},
   "outputs": [
    {
     "data": {
      "text/plain": [
       "DESFECHO\n",
       "Recuperado/Resolvido com sequelas              16532\n",
       "Recuperado/Resolvido                         1061092\n",
       "Não Recuperado/Não Resolvido/Em andamento     327380\n",
       "Fatal/Óbito                                    71504\n",
       "Em recuperação/Resolvendo                     255600\n",
       "Desconhecido                                  867860\n",
       "Name: count, dtype: int64"
      ]
     },
     "execution_count": 18,
     "metadata": {},
     "output_type": "execute_result"
    }
   ],
   "source": [
    "df_final.DESFECHO.value_counts().sort_index(ascending=False)"
   ]
  },
  {
   "cell_type": "markdown",
   "id": "bc79f07e",
   "metadata": {},
   "source": [
    "# SOC"
   ]
  },
  {
   "cell_type": "code",
   "execution_count": 20,
   "id": "532109fe",
   "metadata": {},
   "outputs": [
    {
     "data": {
      "text/plain": [
       "SOC\n",
       "Quadros clínicos na gravidez, no puerpério e perinatais                        10352\n",
       "Procedimentos cirúrgicos e médicos                                             36076\n",
       "Problemas relacionados ao produto                                              28016\n",
       "Neoplasias benignas, malignas e não especificadas (incl. cistos e pólipos)     43532\n",
       "Lesões, intoxicações e complicações de procedimentos                          321104\n",
       "Investigações                                                                 111568\n",
       "Infecções e infestações                                                       122952\n",
       "Distúrbios vasculares                                                         138688\n",
       "Distúrbios respiratórios, torácicos e do mediastino                           177264\n",
       "Distúrbios renais e urinários                                                  30072\n",
       "Distúrbios psiquiátricos                                                       94524\n",
       "Distúrbios oculares                                                            61028\n",
       "Distúrbios musculoesqueléticos e do tecido conjuntivo                         164944\n",
       "Distúrbios metabólicos e nutricionais                                          48816\n",
       "Distúrbios hepatobiliares                                                      15348\n",
       "Distúrbios gerais e quadros clínicos no local de administração                515148\n",
       "Distúrbios gastrointestinais                                                  276492\n",
       "Distúrbios endócrinos                                                           4888\n",
       "Distúrbios dos tecidos cutâneos e subcutâneos                                 337624\n",
       "Distúrbios dos sistemas hematológico e linfático                               64740\n",
       "Distúrbios do sistema reprodutor e da mama                                     20828\n",
       "Distúrbios do sistema nervoso                                                 298564\n",
       "Distúrbios do sistema imunitário                                               48300\n",
       "Distúrbios do ouvido e do labirinto                                            14064\n",
       "Distúrbios congênitos, de família e genéticos                                   2628\n",
       "Distúrbios cardíacos                                                           67080\n",
       "Circunstâncias sociais                                                          8664\n",
       "Name: count, dtype: int64"
      ]
     },
     "execution_count": 20,
     "metadata": {},
     "output_type": "execute_result"
    }
   ],
   "source": [
    "df_final.SOC.value_counts().sort_index(ascending=False)"
   ]
  },
  {
   "cell_type": "markdown",
   "id": "4eb31aad",
   "metadata": {},
   "source": [
    "# GRAVIDADE"
   ]
  },
  {
   "cell_type": "code",
   "execution_count": 21,
   "id": "3383b7dc",
   "metadata": {},
   "outputs": [
    {
     "data": {
      "text/plain": [
       "GRAVIDADE\n",
       "Resultou em óbito, Outro efeito clinicamente significativo                                                                                                                                                            12032\n",
       "Resultou em óbito, Incapacidade persistente ou significativa, Outro efeito clinicamente significativo                                                                                                                    40\n",
       "Resultou em óbito, Incapacidade persistente ou significativa, Hospitalização/Prolongamento de hospitalização, Outro efeito clinicamente significativo                                                                    32\n",
       "Resultou em óbito, Incapacidade persistente ou significativa, Hospitalização/Prolongamento de hospitalização                                                                                                            280\n",
       "Resultou em óbito, Incapacidade persistente ou significativa, Ameaça à vida, Outro efeito clinicamente significativo                                                                                                    328\n",
       "Resultou em óbito, Incapacidade persistente ou significativa, Ameaça à vida, Hospitalização/Prolongamento de hospitalização, Outro efeito clinicamente significativo                                                    796\n",
       "Resultou em óbito, Incapacidade persistente ou significativa, Ameaça à vida, Hospitalização/Prolongamento de hospitalização                                                                                             260\n",
       "Resultou em óbito, Incapacidade persistente ou significativa, Ameaça à vida, Anomalia congênita ou malformação ao nascer, Outro efeito clinicamente significativo                                                         4\n",
       "Resultou em óbito, Incapacidade persistente ou significativa, Ameaça à vida, Anomalia congênita ou malformação ao nascer, Hospitalização/Prolongamento de hospitalização, Outro efeito clinicamente significativo        12\n",
       "Resultou em óbito, Incapacidade persistente ou significativa, Ameaça à vida                                                                                                                                              44\n",
       "Resultou em óbito, Incapacidade persistente ou significativa                                                                                                                                                             28\n",
       "Resultou em óbito, Hospitalização/Prolongamento de hospitalização, Outro efeito clinicamente significativo                                                                                                             3232\n",
       "Resultou em óbito, Hospitalização/Prolongamento de hospitalização                                                                                                                                                      7684\n",
       "Resultou em óbito, Anomalia congênita ou malformação ao nascer, Outro efeito clinicamente significativo                                                                                                                   4\n",
       "Resultou em óbito, Anomalia congênita ou malformação ao nascer, Hospitalização/Prolongamento de hospitalização, Outro efeito clinicamente significativo                                                                   4\n",
       "Resultou em óbito, Anomalia congênita ou malformação ao nascer, Hospitalização/Prolongamento de hospitalização                                                                                                           24\n",
       "Resultou em óbito, Anomalia congênita ou malformação ao nascer                                                                                                                                                           12\n",
       "Resultou em óbito, Ameaça à vida, Outro efeito clinicamente significativo                                                                                                                                               348\n",
       "Resultou em óbito, Ameaça à vida, Hospitalização/Prolongamento de hospitalização, Outro efeito clinicamente significativo                                                                                               748\n",
       "Resultou em óbito, Ameaça à vida, Hospitalização/Prolongamento de hospitalização                                                                                                                                       1236\n",
       "Resultou em óbito, Ameaça à vida, Anomalia congênita ou malformação ao nascer, Hospitalização/Prolongamento de hospitalização, Outro efeito clinicamente significativo                                                    4\n",
       "Resultou em óbito, Ameaça à vida, Anomalia congênita ou malformação ao nascer, Hospitalização/Prolongamento de hospitalização                                                                                             4\n",
       "Resultou em óbito, Ameaça à vida, Anomalia congênita ou malformação ao nascer                                                                                                                                             4\n",
       "Resultou em óbito, Ameaça à vida                                                                                                                                                                                        468\n",
       "Resultou em óbito                                                                                                                                                                                                     44120\n",
       "Outro efeito clinicamente significativo                                                                                                                                                                              556600\n",
       "Incapacidade persistente ou significativa, Outro efeito clinicamente significativo                                                                                                                                     9260\n",
       "Incapacidade persistente ou significativa, Hospitalização/Prolongamento de hospitalização, Outro efeito clinicamente significativo                                                                                     2292\n",
       "Incapacidade persistente ou significativa, Hospitalização/Prolongamento de hospitalização                                                                                                                              3240\n",
       "Incapacidade persistente ou significativa, Anomalia congênita ou malformação ao nascer, Outro efeito clinicamente significativo                                                                                           8\n",
       "Incapacidade persistente ou significativa, Anomalia congênita ou malformação ao nascer, Hospitalização/Prolongamento de hospitalização, Outro efeito clinicamente significativo                                          12\n",
       "Incapacidade persistente ou significativa, Anomalia congênita ou malformação ao nascer, Hospitalização/Prolongamento de hospitalização                                                                                   20\n",
       "Incapacidade persistente ou significativa, Anomalia congênita ou malformação ao nascer                                                                                                                                   44\n",
       "Incapacidade persistente ou significativa, Ameaça à vida, Outro efeito clinicamente significativo                                                                                                                      1276\n",
       "Incapacidade persistente ou significativa, Ameaça à vida, Hospitalização/Prolongamento de hospitalização, Outro efeito clinicamente significativo                                                                      2412\n",
       "Incapacidade persistente ou significativa, Ameaça à vida, Hospitalização/Prolongamento de hospitalização                                                                                                               2256\n",
       "Incapacidade persistente ou significativa, Ameaça à vida, Anomalia congênita ou malformação ao nascer, Outro efeito clinicamente significativo                                                                           44\n",
       "Incapacidade persistente ou significativa, Ameaça à vida, Anomalia congênita ou malformação ao nascer, Hospitalização/Prolongamento de hospitalização, Outro efeito clinicamente significativo                           60\n",
       "Incapacidade persistente ou significativa, Ameaça à vida, Anomalia congênita ou malformação ao nascer, Hospitalização/Prolongamento de hospitalização                                                                    12\n",
       "Incapacidade persistente ou significativa, Ameaça à vida, Anomalia congênita ou malformação ao nascer                                                                                                                     8\n",
       "Incapacidade persistente ou significativa, Ameaça à vida                                                                                                                                                               1492\n",
       "Incapacidade persistente ou significativa                                                                                                                                                                             28260\n",
       "Hospitalização/Prolongamento de hospitalização, Outro efeito clinicamente significativo                                                                                                                               59424\n",
       "Hospitalização/Prolongamento de hospitalização                                                                                                                                                                       217896\n",
       "Anomalia congênita ou malformação ao nascer, Outro efeito clinicamente significativo                                                                                                                                    364\n",
       "Anomalia congênita ou malformação ao nascer, Hospitalização/Prolongamento de hospitalização, Outro efeito clinicamente significativo                                                                                     20\n",
       "Anomalia congênita ou malformação ao nascer, Hospitalização/Prolongamento de hospitalização                                                                                                                             152\n",
       "Anomalia congênita ou malformação ao nascer                                                                                                                                                                             648\n",
       "Ameaça à vida, Outro efeito clinicamente significativo                                                                                                                                                                 9136\n",
       "Ameaça à vida, Hospitalização/Prolongamento de hospitalização, Outro efeito clinicamente significativo                                                                                                                 9664\n",
       "Ameaça à vida, Hospitalização/Prolongamento de hospitalização                                                                                                                                                         17112\n",
       "Ameaça à vida, Anomalia congênita ou malformação ao nascer, Outro efeito clinicamente significativo                                                                                                                      32\n",
       "Ameaça à vida, Anomalia congênita ou malformação ao nascer, Hospitalização/Prolongamento de hospitalização, Outro efeito clinicamente significativo                                                                       8\n",
       "Ameaça à vida, Anomalia congênita ou malformação ao nascer, Hospitalização/Prolongamento de hospitalização                                                                                                               12\n",
       "Ameaça à vida, Anomalia congênita ou malformação ao nascer                                                                                                                                                              248\n",
       "Ameaça à vida                                                                                                                                                                                                         31600\n",
       "Name: count, dtype: int64"
      ]
     },
     "execution_count": 21,
     "metadata": {},
     "output_type": "execute_result"
    }
   ],
   "source": [
    "df_final.GRAVIDADE.value_counts().sort_index(ascending=False)"
   ]
  }
 ],
 "metadata": {
  "kernelspec": {
   "display_name": ".venv",
   "language": "python",
   "name": "python3"
  },
  "language_info": {
   "codemirror_mode": {
    "name": "ipython",
    "version": 3
   },
   "file_extension": ".py",
   "mimetype": "text/x-python",
   "name": "python",
   "nbconvert_exporter": "python",
   "pygments_lexer": "ipython3",
   "version": "3.9.21"
  }
 },
 "nbformat": 4,
 "nbformat_minor": 5
}
