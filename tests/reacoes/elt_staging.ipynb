{
 "cells": [
  {
   "cell_type": "markdown",
   "id": "e32c50fb",
   "metadata": {},
   "source": [
    "# ELT"
   ]
  },
  {
   "cell_type": "code",
   "execution_count": 1,
   "id": "cdba7443",
   "metadata": {},
   "outputs": [],
   "source": [
    "import pandas as pd\n",
    "from datetime import datetime \n",
    "import requests\n",
    "from io import StringIO\n",
    "import urllib3"
   ]
  },
  {
   "cell_type": "code",
   "execution_count": 2,
   "id": "7919ab23",
   "metadata": {},
   "outputs": [],
   "source": [
    "\n",
    "# Mostra todas as colunas, sem limite\n",
    "pd.set_option('display.max_columns', None)\n",
    "\n",
    "# (Opcional) Ajustes que costumam ajudar:\n",
    "pd.set_option('display.expand_frame_repr', False)   # evita quebra de linha\n",
    "pd.set_option('display.max_colwidth', None)         # mostra o conteúdo completo das células\n",
    "pd.set_option('display.width', 0)                   # usa toda a largura do notebook\n"
   ]
  },
  {
   "cell_type": "code",
   "execution_count": 7,
   "id": "32beed7b",
   "metadata": {},
   "outputs": [
    {
     "name": "stdout",
     "output_type": "stream",
     "text": [
      "/Users/silmara.barnabe/Desktop/Projects/vigimed/data/01_staging/reacoes/2025_08_14_11_12_18.parquet\n"
     ]
    }
   ],
   "source": [
    "layer ='01_staging'\n",
    "dataset = 'reacoes'\n",
    "ts = datetime.now().strftime(\"%Y_%m_%d_%H_%M_%S\") #'2025_06_30_14_17_00'\n",
    "output = \"/Users/silmara.barnabe/Desktop/Projects/vigimed/data/\"+layer+\"/\"+dataset+\"/\"+ts+\".parquet\"\n",
    "\n",
    "print(output) "
   ]
  },
  {
   "cell_type": "markdown",
   "id": "06bca818",
   "metadata": {},
   "source": [
    "# Input"
   ]
  },
  {
   "cell_type": "code",
   "execution_count": 5,
   "id": "34fe1cfa",
   "metadata": {},
   "outputs": [],
   "source": [
    "# desativa warnings de SSL\n",
    "urllib3.disable_warnings(urllib3.exceptions.InsecureRequestWarning)\n",
    "\n",
    "url = \"https://dados.anvisa.gov.br/dados/VigiMed_Reacoes.csv\"\n",
    "\n",
    "resp = requests.get(url, verify=False)\n",
    "data = StringIO(resp.text)\n",
    "\n",
    "df = pd.read_csv(\n",
    "    data,\n",
    "    sep=';',\n",
    "    encoding='latin-1',\n",
    "    dtype=str,\n",
    "    quoting=3,  # csv.QUOTE_NONE\n",
    "    on_bad_lines='error',\n",
    "    low_memory=False\n",
    ")"
   ]
  },
  {
   "cell_type": "markdown",
   "id": "79b9e8a9",
   "metadata": {},
   "source": [
    "# Output"
   ]
  },
  {
   "cell_type": "code",
   "execution_count": 8,
   "id": "e3c25b9d",
   "metadata": {},
   "outputs": [],
   "source": [
    "df.to_parquet(output, compression=\"snappy\", index=False)"
   ]
  }
 ],
 "metadata": {
  "kernelspec": {
   "display_name": ".venv",
   "language": "python",
   "name": "python3"
  },
  "language_info": {
   "codemirror_mode": {
    "name": "ipython",
    "version": 3
   },
   "file_extension": ".py",
   "mimetype": "text/x-python",
   "name": "python",
   "nbconvert_exporter": "python",
   "pygments_lexer": "ipython3",
   "version": "3.9.21"
  }
 },
 "nbformat": 4,
 "nbformat_minor": 5
}
